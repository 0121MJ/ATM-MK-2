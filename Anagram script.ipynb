{
 "cells": [
  {
   "cell_type": "code",
   "execution_count": 28,
   "id": "1b510632",
   "metadata": {},
   "outputs": [
    {
     "name": "stdout",
     "output_type": "stream",
     "text": [
      "ANAGRAM GENERATED: niulibgsq\n",
      "\n",
      "SET OF ANAGRAMS: ['squibling']\n",
      "\n",
      "TIME ELAPSED: 0.08932757377624512 seconds\n"
     ]
    },
    {
     "name": "stderr",
     "output_type": "stream",
     "text": [
      "[nltk_data] Downloading package words to\n",
      "[nltk_data]     C:\\Users\\James.Sharp\\AppData\\Roaming\\nltk_data...\n",
      "[nltk_data]   Package words is already up-to-date!\n"
     ]
    }
   ],
   "source": [
    "# this script creates an anagram from the dictionary and then figures out what the original words \n",
    "# could have been. First by finding the set of words which contain the least common letter within it\n",
    "# and then the words which are the same length as it. I found my way of creating sub-groups is 44%\n",
    "# faster than directly comparing each word (shown in the next cell)\n",
    "\n",
    "import random\n",
    "import time\n",
    "import nltk\n",
    "\n",
    "nltk.download('words')  # downloads english dictionary\n",
    "\n",
    "start_time = time.time()\n",
    "\n",
    "word_list = nltk.corpus.words.words()\n",
    "\n",
    "original_word = word_list[random.randint(0,(len(word_list)-1))] # selects a random word\n",
    "\n",
    "# original_word = input(\"enter word \") # option to allow for user entry\n",
    "\n",
    "anagram = ''.join(random.sample(original_word,len(original_word))) # converts word into anagram\n",
    "    \n",
    "print(f\"ANAGRAM GENERATED: {''.join(anagram)}\")\n",
    "\n",
    "# order of letters in the english alphabet in order of how commonly they appear in the dictionary\n",
    "# https://en.wikipedia.org/wiki/Letter_frequency\n",
    "alphabet = [\"q\",\"j\",\"x\",\"z\",\"w\",\"k\",\"v\",\"f\",\"y\",\"b\",\n",
    "            \"h\",\"m\",\"p\",\"g\",\"u\",\"d\",\"c\",\"l\",\"o\",\"t\",\n",
    "            \"n\",\"r\",\"a\",\"i\",\"s\",\"e\"]\n",
    "\n",
    "### finds the least commonly used letter in the anagram \n",
    "for i in range(0,len(alphabet)):\n",
    "    if alphabet[i] in anagram:\n",
    "        break\n",
    "\n",
    "potential_words_set_0 = []\n",
    "\n",
    "for j in word_list:\n",
    "    if alphabet[i] in j:\n",
    "        potential_words_set_0.append(j)\n",
    "###\n",
    "\n",
    "### finds all words which are the same length as anagram\n",
    "potential_words_set_1 = []\n",
    "\n",
    "for i in potential_words_set_0:\n",
    "    if len(i) == len(anagram):\n",
    "        potential_words_set_1.append(i)\n",
    "###\n",
    "\n",
    "### finally checks for anagrams\n",
    "set_of_anagrams = []\n",
    "\n",
    "for i in potential_words_set_1:\n",
    "    if sorted(i) == sorted(anagram):\n",
    "        set_of_anagrams.append(i)\n",
    "\n",
    "print(f\"\\nSET OF ANAGRAMS: {set_of_anagrams}\")\n",
    "###\n",
    "\n",
    "end_time = time.time()\n",
    "\n",
    "time_elapsed = end_time - start_time\n",
    "\n",
    "print(f\"\\nTIME ELAPSED: {time_elapsed} seconds\")"
   ]
  },
  {
   "cell_type": "code",
   "execution_count": 29,
   "id": "f4d4e1cc",
   "metadata": {},
   "outputs": [
    {
     "name": "stdout",
     "output_type": "stream",
     "text": [
      "ANAGRAM GENERATED: niulibgsq\n",
      "\n",
      "SET OF ANAGRAMS: ['squibling']\n",
      "\n",
      "TIME ELAPSED: 0.18319129943847656 seconds\n"
     ]
    }
   ],
   "source": [
    "# direct comparison\n",
    "\n",
    "start_time = time.time()\n",
    "\n",
    "set_of_anagrams = []\n",
    "\n",
    "print(f\"ANAGRAM GENERATED: {''.join(anagram)}\")\n",
    "\n",
    "for i in word_list:\n",
    "    if sorted(i) == sorted(anagram):\n",
    "        set_of_anagrams.append(i)\n",
    "        \n",
    "print(f\"\\nSET OF ANAGRAMS: {set_of_anagrams}\")\n",
    "\n",
    "end_time = time.time()\n",
    "\n",
    "time_elapsed = end_time - start_time\n",
    "\n",
    "print(f\"\\nTIME ELAPSED: {time_elapsed} seconds\")"
   ]
  }
 ],
 "metadata": {
  "kernelspec": {
   "display_name": "Python 3 (ipykernel)",
   "language": "python",
   "name": "python3"
  },
  "language_info": {
   "codemirror_mode": {
    "name": "ipython",
    "version": 3
   },
   "file_extension": ".py",
   "mimetype": "text/x-python",
   "name": "python",
   "nbconvert_exporter": "python",
   "pygments_lexer": "ipython3",
   "version": "3.8.8"
  }
 },
 "nbformat": 4,
 "nbformat_minor": 5
}
