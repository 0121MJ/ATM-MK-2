{
 "cells": [
  {
   "cell_type": "markdown",
   "id": "c96657c7",
   "metadata": {},
   "source": [
    "#### In 2023, I was the analyst helping consult a client on their compensation structure. I was given a set of employees, their salaries, and the salary bands they were members of (labelled A, B, C, etc.). A band was made of the minimum possible salary an employee could have in it, the maximum, and the midpoint. Plan 1 was the set of salaries bands the firm originally had, plan 2 was what we proposed. I was asked to create a single visual showing where the employees moved before and after, relative to their min/mid/max. \n",
    "#### \n",
    "#### A z-score is typically used to normalise differing figures. That was not possible here since I only had the three min/mid/max figures as opposed to a mean and standard deviation needed for that. \n",
    "#### \n",
    "#### I calculated a score as distances from the min/mid/max. Min = 100%, mid = 200%, max = 300%. E.g., if a salary is 70, and the min is 100, then the score is 70%. Or if a salary is 400, the min is 200, and the mid is 600, then being halfway between min and mid makes a score of 150%.\n",
    "#### \n",
    "#### The chart itself is derived from a candlestick chart used for stock prices, which I made to show blocks going from 100-200-300. \n",
    "#### \n",
    "#### The names, bands, and salaries in this document are fabricated and do not reflect that of any real persons or organisations.\n"
   ]
  },
  {
   "cell_type": "code",
   "execution_count": 2,
   "id": "f79c0a17",
   "metadata": {},
   "outputs": [
    {
     "data": {
      "application/vnd.plotly.v1+json": {
       "config": {
        "plotlyServerURL": "https://plot.ly"
       },
       "data": [
        {
         "close": [
          300,
          200,
          300,
          200
         ],
         "decreasing": {
          "fillcolor": "#4a5d6e",
          "line": {
           "color": "#4a5d6e"
          }
         },
         "high": [
          300,
          200,
          300,
          200
         ],
         "increasing": {
          "fillcolor": "#4a5d6e",
          "line": {
           "color": "#4a5d6e"
          }
         },
         "low": [
          200,
          100,
          200,
          100
         ],
         "name": "min = 100, max = 300",
         "open": [
          200,
          100,
          200,
          100
         ],
         "type": "candlestick",
         "x": [
          "plan 1",
          "plan 1",
          "plan 2",
          "plan 2"
         ]
        },
        {
         "close": [
          200
         ],
         "decreasing": {
          "line": {
           "color": "#77a1a2"
          }
         },
         "high": [
          200
         ],
         "increasing": {
          "line": {
           "color": "#77a1a2"
          }
         },
         "low": [
          200
         ],
         "name": "mid = 200",
         "open": [
          200
         ],
         "type": "candlestick",
         "x": [
          "plan 1"
         ]
        },
        {
         "close": [
          200
         ],
         "decreasing": {
          "line": {
           "color": "#77a1a2"
          }
         },
         "high": [
          200
         ],
         "increasing": {
          "line": {
           "color": "#77a1a2"
          }
         },
         "low": [
          200
         ],
         "name": "mid = 200",
         "open": [
          200
         ],
         "type": "candlestick",
         "x": [
          "plan 2"
         ]
        },
        {
         "close": [
          125
         ],
         "decreasing": {
          "line": {
           "color": "#C00000"
          }
         },
         "high": [
          125
         ],
         "increasing": {
          "line": {
           "color": "#C00000"
          }
         },
         "low": [
          125
         ],
         "name": "Employee 1",
         "open": [
          125
         ],
         "type": "candlestick",
         "x": [
          "plan 1"
         ]
        },
        {
         "close": [
          81.81818181818183
         ],
         "decreasing": {
          "line": {
           "color": "#C00000"
          }
         },
         "high": [
          81.81818181818183
         ],
         "increasing": {
          "line": {
           "color": "#C00000"
          }
         },
         "low": [
          81.81818181818183
         ],
         "name": "Employee 1",
         "open": [
          81.81818181818183
         ],
         "type": "candlestick",
         "x": [
          "plan 2"
         ]
        },
        {
         "close": [
          203.52941176470586
         ],
         "decreasing": {
          "line": {
           "color": "#C00000"
          }
         },
         "high": [
          203.52941176470586
         ],
         "increasing": {
          "line": {
           "color": "#C00000"
          }
         },
         "low": [
          203.52941176470586
         ],
         "name": "Employee 2",
         "open": [
          203.52941176470586
         ],
         "type": "candlestick",
         "x": [
          "plan 1"
         ]
        },
        {
         "close": [
          98
         ],
         "decreasing": {
          "line": {
           "color": "#C00000"
          }
         },
         "high": [
          98
         ],
         "increasing": {
          "line": {
           "color": "#C00000"
          }
         },
         "low": [
          98
         ],
         "name": "Employee 2",
         "open": [
          98
         ],
         "type": "candlestick",
         "x": [
          "plan 2"
         ]
        },
        {
         "close": [
          184.6153846153846
         ],
         "decreasing": {
          "line": {
           "color": "#C00000"
          }
         },
         "high": [
          184.6153846153846
         ],
         "increasing": {
          "line": {
           "color": "#C00000"
          }
         },
         "low": [
          184.6153846153846
         ],
         "name": "Employee 3",
         "open": [
          184.6153846153846
         ],
         "type": "candlestick",
         "x": [
          "plan 1"
         ]
        },
        {
         "close": [
          92
         ],
         "decreasing": {
          "line": {
           "color": "#C00000"
          }
         },
         "high": [
          92
         ],
         "increasing": {
          "line": {
           "color": "#C00000"
          }
         },
         "low": [
          92
         ],
         "name": "Employee 3",
         "open": [
          92
         ],
         "type": "candlestick",
         "x": [
          "plan 2"
         ]
        },
        {
         "close": [
          300.7751937984496
         ],
         "decreasing": {
          "line": {
           "color": "#C00000"
          }
         },
         "high": [
          300.7751937984496
         ],
         "increasing": {
          "line": {
           "color": "#C00000"
          }
         },
         "low": [
          300.7751937984496
         ],
         "name": "Employee 4",
         "open": [
          300.7751937984496
         ],
         "type": "candlestick",
         "x": [
          "plan 1"
         ]
        },
        {
         "close": [
          301.96078431372547
         ],
         "decreasing": {
          "line": {
           "color": "#C00000"
          }
         },
         "high": [
          301.96078431372547
         ],
         "increasing": {
          "line": {
           "color": "#C00000"
          }
         },
         "low": [
          301.96078431372547
         ],
         "name": "Employee 4",
         "open": [
          301.96078431372547
         ],
         "type": "candlestick",
         "x": [
          "plan 2"
         ]
        },
        {
         "close": [
          159.0909090909091
         ],
         "decreasing": {
          "line": {
           "color": "#C00000"
          }
         },
         "high": [
          159.0909090909091
         ],
         "increasing": {
          "line": {
           "color": "#C00000"
          }
         },
         "low": [
          159.0909090909091
         ],
         "name": "Employee 5",
         "open": [
          159.0909090909091
         ],
         "type": "candlestick",
         "x": [
          "plan 1"
         ]
        },
        {
         "close": [
          125
         ],
         "decreasing": {
          "line": {
           "color": "#C00000"
          }
         },
         "high": [
          125
         ],
         "increasing": {
          "line": {
           "color": "#C00000"
          }
         },
         "low": [
          125
         ],
         "name": "Employee 5",
         "open": [
          125
         ],
         "type": "candlestick",
         "x": [
          "plan 2"
         ]
        },
        {
         "close": [
          160.6060606060606
         ],
         "decreasing": {
          "line": {
           "color": "#C00000"
          }
         },
         "high": [
          160.6060606060606
         ],
         "increasing": {
          "line": {
           "color": "#C00000"
          }
         },
         "low": [
          160.6060606060606
         ],
         "name": "Employee 6",
         "open": [
          160.6060606060606
         ],
         "type": "candlestick",
         "x": [
          "plan 1"
         ]
        },
        {
         "close": [
          150
         ],
         "decreasing": {
          "line": {
           "color": "#C00000"
          }
         },
         "high": [
          150
         ],
         "increasing": {
          "line": {
           "color": "#C00000"
          }
         },
         "low": [
          150
         ],
         "name": "Employee 6",
         "open": [
          150
         ],
         "type": "candlestick",
         "x": [
          "plan 2"
         ]
        },
        {
         "close": [
          238.88888888888889
         ],
         "decreasing": {
          "line": {
           "color": "#C00000"
          }
         },
         "high": [
          238.88888888888889
         ],
         "increasing": {
          "line": {
           "color": "#C00000"
          }
         },
         "low": [
          238.88888888888889
         ],
         "name": "Employee 7",
         "open": [
          238.88888888888889
         ],
         "type": "candlestick",
         "x": [
          "plan 1"
         ]
        },
        {
         "close": [
          225
         ],
         "decreasing": {
          "line": {
           "color": "#C00000"
          }
         },
         "high": [
          225
         ],
         "increasing": {
          "line": {
           "color": "#C00000"
          }
         },
         "low": [
          225
         ],
         "name": "Employee 7",
         "open": [
          225
         ],
         "type": "candlestick",
         "x": [
          "plan 2"
         ]
        }
       ],
       "layout": {
        "plot_bgcolor": "white",
        "template": {
         "data": {
          "bar": [
           {
            "error_x": {
             "color": "#2a3f5f"
            },
            "error_y": {
             "color": "#2a3f5f"
            },
            "marker": {
             "line": {
              "color": "#E5ECF6",
              "width": 0.5
             },
             "pattern": {
              "fillmode": "overlay",
              "size": 10,
              "solidity": 0.2
             }
            },
            "type": "bar"
           }
          ],
          "barpolar": [
           {
            "marker": {
             "line": {
              "color": "#E5ECF6",
              "width": 0.5
             },
             "pattern": {
              "fillmode": "overlay",
              "size": 10,
              "solidity": 0.2
             }
            },
            "type": "barpolar"
           }
          ],
          "carpet": [
           {
            "aaxis": {
             "endlinecolor": "#2a3f5f",
             "gridcolor": "white",
             "linecolor": "white",
             "minorgridcolor": "white",
             "startlinecolor": "#2a3f5f"
            },
            "baxis": {
             "endlinecolor": "#2a3f5f",
             "gridcolor": "white",
             "linecolor": "white",
             "minorgridcolor": "white",
             "startlinecolor": "#2a3f5f"
            },
            "type": "carpet"
           }
          ],
          "choropleth": [
           {
            "colorbar": {
             "outlinewidth": 0,
             "ticks": ""
            },
            "type": "choropleth"
           }
          ],
          "contour": [
           {
            "colorbar": {
             "outlinewidth": 0,
             "ticks": ""
            },
            "colorscale": [
             [
              0,
              "#0d0887"
             ],
             [
              0.1111111111111111,
              "#46039f"
             ],
             [
              0.2222222222222222,
              "#7201a8"
             ],
             [
              0.3333333333333333,
              "#9c179e"
             ],
             [
              0.4444444444444444,
              "#bd3786"
             ],
             [
              0.5555555555555556,
              "#d8576b"
             ],
             [
              0.6666666666666666,
              "#ed7953"
             ],
             [
              0.7777777777777778,
              "#fb9f3a"
             ],
             [
              0.8888888888888888,
              "#fdca26"
             ],
             [
              1,
              "#f0f921"
             ]
            ],
            "type": "contour"
           }
          ],
          "contourcarpet": [
           {
            "colorbar": {
             "outlinewidth": 0,
             "ticks": ""
            },
            "type": "contourcarpet"
           }
          ],
          "heatmap": [
           {
            "colorbar": {
             "outlinewidth": 0,
             "ticks": ""
            },
            "colorscale": [
             [
              0,
              "#0d0887"
             ],
             [
              0.1111111111111111,
              "#46039f"
             ],
             [
              0.2222222222222222,
              "#7201a8"
             ],
             [
              0.3333333333333333,
              "#9c179e"
             ],
             [
              0.4444444444444444,
              "#bd3786"
             ],
             [
              0.5555555555555556,
              "#d8576b"
             ],
             [
              0.6666666666666666,
              "#ed7953"
             ],
             [
              0.7777777777777778,
              "#fb9f3a"
             ],
             [
              0.8888888888888888,
              "#fdca26"
             ],
             [
              1,
              "#f0f921"
             ]
            ],
            "type": "heatmap"
           }
          ],
          "heatmapgl": [
           {
            "colorbar": {
             "outlinewidth": 0,
             "ticks": ""
            },
            "colorscale": [
             [
              0,
              "#0d0887"
             ],
             [
              0.1111111111111111,
              "#46039f"
             ],
             [
              0.2222222222222222,
              "#7201a8"
             ],
             [
              0.3333333333333333,
              "#9c179e"
             ],
             [
              0.4444444444444444,
              "#bd3786"
             ],
             [
              0.5555555555555556,
              "#d8576b"
             ],
             [
              0.6666666666666666,
              "#ed7953"
             ],
             [
              0.7777777777777778,
              "#fb9f3a"
             ],
             [
              0.8888888888888888,
              "#fdca26"
             ],
             [
              1,
              "#f0f921"
             ]
            ],
            "type": "heatmapgl"
           }
          ],
          "histogram": [
           {
            "marker": {
             "pattern": {
              "fillmode": "overlay",
              "size": 10,
              "solidity": 0.2
             }
            },
            "type": "histogram"
           }
          ],
          "histogram2d": [
           {
            "colorbar": {
             "outlinewidth": 0,
             "ticks": ""
            },
            "colorscale": [
             [
              0,
              "#0d0887"
             ],
             [
              0.1111111111111111,
              "#46039f"
             ],
             [
              0.2222222222222222,
              "#7201a8"
             ],
             [
              0.3333333333333333,
              "#9c179e"
             ],
             [
              0.4444444444444444,
              "#bd3786"
             ],
             [
              0.5555555555555556,
              "#d8576b"
             ],
             [
              0.6666666666666666,
              "#ed7953"
             ],
             [
              0.7777777777777778,
              "#fb9f3a"
             ],
             [
              0.8888888888888888,
              "#fdca26"
             ],
             [
              1,
              "#f0f921"
             ]
            ],
            "type": "histogram2d"
           }
          ],
          "histogram2dcontour": [
           {
            "colorbar": {
             "outlinewidth": 0,
             "ticks": ""
            },
            "colorscale": [
             [
              0,
              "#0d0887"
             ],
             [
              0.1111111111111111,
              "#46039f"
             ],
             [
              0.2222222222222222,
              "#7201a8"
             ],
             [
              0.3333333333333333,
              "#9c179e"
             ],
             [
              0.4444444444444444,
              "#bd3786"
             ],
             [
              0.5555555555555556,
              "#d8576b"
             ],
             [
              0.6666666666666666,
              "#ed7953"
             ],
             [
              0.7777777777777778,
              "#fb9f3a"
             ],
             [
              0.8888888888888888,
              "#fdca26"
             ],
             [
              1,
              "#f0f921"
             ]
            ],
            "type": "histogram2dcontour"
           }
          ],
          "mesh3d": [
           {
            "colorbar": {
             "outlinewidth": 0,
             "ticks": ""
            },
            "type": "mesh3d"
           }
          ],
          "parcoords": [
           {
            "line": {
             "colorbar": {
              "outlinewidth": 0,
              "ticks": ""
             }
            },
            "type": "parcoords"
           }
          ],
          "pie": [
           {
            "automargin": true,
            "type": "pie"
           }
          ],
          "scatter": [
           {
            "marker": {
             "colorbar": {
              "outlinewidth": 0,
              "ticks": ""
             }
            },
            "type": "scatter"
           }
          ],
          "scatter3d": [
           {
            "line": {
             "colorbar": {
              "outlinewidth": 0,
              "ticks": ""
             }
            },
            "marker": {
             "colorbar": {
              "outlinewidth": 0,
              "ticks": ""
             }
            },
            "type": "scatter3d"
           }
          ],
          "scattercarpet": [
           {
            "marker": {
             "colorbar": {
              "outlinewidth": 0,
              "ticks": ""
             }
            },
            "type": "scattercarpet"
           }
          ],
          "scattergeo": [
           {
            "marker": {
             "colorbar": {
              "outlinewidth": 0,
              "ticks": ""
             }
            },
            "type": "scattergeo"
           }
          ],
          "scattergl": [
           {
            "marker": {
             "colorbar": {
              "outlinewidth": 0,
              "ticks": ""
             }
            },
            "type": "scattergl"
           }
          ],
          "scattermapbox": [
           {
            "marker": {
             "colorbar": {
              "outlinewidth": 0,
              "ticks": ""
             }
            },
            "type": "scattermapbox"
           }
          ],
          "scatterpolar": [
           {
            "marker": {
             "colorbar": {
              "outlinewidth": 0,
              "ticks": ""
             }
            },
            "type": "scatterpolar"
           }
          ],
          "scatterpolargl": [
           {
            "marker": {
             "colorbar": {
              "outlinewidth": 0,
              "ticks": ""
             }
            },
            "type": "scatterpolargl"
           }
          ],
          "scatterternary": [
           {
            "marker": {
             "colorbar": {
              "outlinewidth": 0,
              "ticks": ""
             }
            },
            "type": "scatterternary"
           }
          ],
          "surface": [
           {
            "colorbar": {
             "outlinewidth": 0,
             "ticks": ""
            },
            "colorscale": [
             [
              0,
              "#0d0887"
             ],
             [
              0.1111111111111111,
              "#46039f"
             ],
             [
              0.2222222222222222,
              "#7201a8"
             ],
             [
              0.3333333333333333,
              "#9c179e"
             ],
             [
              0.4444444444444444,
              "#bd3786"
             ],
             [
              0.5555555555555556,
              "#d8576b"
             ],
             [
              0.6666666666666666,
              "#ed7953"
             ],
             [
              0.7777777777777778,
              "#fb9f3a"
             ],
             [
              0.8888888888888888,
              "#fdca26"
             ],
             [
              1,
              "#f0f921"
             ]
            ],
            "type": "surface"
           }
          ],
          "table": [
           {
            "cells": {
             "fill": {
              "color": "#EBF0F8"
             },
             "line": {
              "color": "white"
             }
            },
            "header": {
             "fill": {
              "color": "#C8D4E3"
             },
             "line": {
              "color": "white"
             }
            },
            "type": "table"
           }
          ]
         },
         "layout": {
          "annotationdefaults": {
           "arrowcolor": "#2a3f5f",
           "arrowhead": 0,
           "arrowwidth": 1
          },
          "autotypenumbers": "strict",
          "coloraxis": {
           "colorbar": {
            "outlinewidth": 0,
            "ticks": ""
           }
          },
          "colorscale": {
           "diverging": [
            [
             0,
             "#8e0152"
            ],
            [
             0.1,
             "#c51b7d"
            ],
            [
             0.2,
             "#de77ae"
            ],
            [
             0.3,
             "#f1b6da"
            ],
            [
             0.4,
             "#fde0ef"
            ],
            [
             0.5,
             "#f7f7f7"
            ],
            [
             0.6,
             "#e6f5d0"
            ],
            [
             0.7,
             "#b8e186"
            ],
            [
             0.8,
             "#7fbc41"
            ],
            [
             0.9,
             "#4d9221"
            ],
            [
             1,
             "#276419"
            ]
           ],
           "sequential": [
            [
             0,
             "#0d0887"
            ],
            [
             0.1111111111111111,
             "#46039f"
            ],
            [
             0.2222222222222222,
             "#7201a8"
            ],
            [
             0.3333333333333333,
             "#9c179e"
            ],
            [
             0.4444444444444444,
             "#bd3786"
            ],
            [
             0.5555555555555556,
             "#d8576b"
            ],
            [
             0.6666666666666666,
             "#ed7953"
            ],
            [
             0.7777777777777778,
             "#fb9f3a"
            ],
            [
             0.8888888888888888,
             "#fdca26"
            ],
            [
             1,
             "#f0f921"
            ]
           ],
           "sequentialminus": [
            [
             0,
             "#0d0887"
            ],
            [
             0.1111111111111111,
             "#46039f"
            ],
            [
             0.2222222222222222,
             "#7201a8"
            ],
            [
             0.3333333333333333,
             "#9c179e"
            ],
            [
             0.4444444444444444,
             "#bd3786"
            ],
            [
             0.5555555555555556,
             "#d8576b"
            ],
            [
             0.6666666666666666,
             "#ed7953"
            ],
            [
             0.7777777777777778,
             "#fb9f3a"
            ],
            [
             0.8888888888888888,
             "#fdca26"
            ],
            [
             1,
             "#f0f921"
            ]
           ]
          },
          "colorway": [
           "#636efa",
           "#EF553B",
           "#00cc96",
           "#ab63fa",
           "#FFA15A",
           "#19d3f3",
           "#FF6692",
           "#B6E880",
           "#FF97FF",
           "#FECB52"
          ],
          "font": {
           "color": "#2a3f5f"
          },
          "geo": {
           "bgcolor": "white",
           "lakecolor": "white",
           "landcolor": "#E5ECF6",
           "showlakes": true,
           "showland": true,
           "subunitcolor": "white"
          },
          "hoverlabel": {
           "align": "left"
          },
          "hovermode": "closest",
          "mapbox": {
           "style": "light"
          },
          "paper_bgcolor": "white",
          "plot_bgcolor": "#E5ECF6",
          "polar": {
           "angularaxis": {
            "gridcolor": "white",
            "linecolor": "white",
            "ticks": ""
           },
           "bgcolor": "#E5ECF6",
           "radialaxis": {
            "gridcolor": "white",
            "linecolor": "white",
            "ticks": ""
           }
          },
          "scene": {
           "xaxis": {
            "backgroundcolor": "#E5ECF6",
            "gridcolor": "white",
            "gridwidth": 2,
            "linecolor": "white",
            "showbackground": true,
            "ticks": "",
            "zerolinecolor": "white"
           },
           "yaxis": {
            "backgroundcolor": "#E5ECF6",
            "gridcolor": "white",
            "gridwidth": 2,
            "linecolor": "white",
            "showbackground": true,
            "ticks": "",
            "zerolinecolor": "white"
           },
           "zaxis": {
            "backgroundcolor": "#E5ECF6",
            "gridcolor": "white",
            "gridwidth": 2,
            "linecolor": "white",
            "showbackground": true,
            "ticks": "",
            "zerolinecolor": "white"
           }
          },
          "shapedefaults": {
           "line": {
            "color": "#2a3f5f"
           }
          },
          "ternary": {
           "aaxis": {
            "gridcolor": "white",
            "linecolor": "white",
            "ticks": ""
           },
           "baxis": {
            "gridcolor": "white",
            "linecolor": "white",
            "ticks": ""
           },
           "bgcolor": "#E5ECF6",
           "caxis": {
            "gridcolor": "white",
            "linecolor": "white",
            "ticks": ""
           }
          },
          "title": {
           "x": 0.05
          },
          "xaxis": {
           "automargin": true,
           "gridcolor": "white",
           "linecolor": "white",
           "ticks": "",
           "title": {
            "standoff": 15
           },
           "zerolinecolor": "white",
           "zerolinewidth": 2
          },
          "yaxis": {
           "automargin": true,
           "gridcolor": "white",
           "linecolor": "white",
           "ticks": "",
           "title": {
            "standoff": 15
           },
           "zerolinecolor": "white",
           "zerolinewidth": 2
          }
         }
        },
        "title": {
         "font": {
          "color": "#77a1a2",
          "family": "Work Sans",
          "size": 30
         },
         "text": "Clays ltd."
        },
        "xaxis": {
         "gridcolor": "#DDDDDD",
         "rangeslider": {
          "visible": false
         }
        },
        "yaxis": {
         "dtick": 10,
         "gridcolor": "#DDDDDD",
         "title": {
          "text": "Score"
         }
        }
       }
      },
      "text/html": [
       "<div>                            <div id=\"dbe79f61-abb7-47f0-863b-0d95c136c37f\" class=\"plotly-graph-div\" style=\"height:525px; width:100%;\"></div>            <script type=\"text/javascript\">                require([\"plotly\"], function(Plotly) {                    window.PLOTLYENV=window.PLOTLYENV || {};                                    if (document.getElementById(\"dbe79f61-abb7-47f0-863b-0d95c136c37f\")) {                    Plotly.newPlot(                        \"dbe79f61-abb7-47f0-863b-0d95c136c37f\",                        [{\"close\":[300,200,300,200],\"decreasing\":{\"fillcolor\":\"#4a5d6e\",\"line\":{\"color\":\"#4a5d6e\"}},\"high\":[300,200,300,200],\"increasing\":{\"fillcolor\":\"#4a5d6e\",\"line\":{\"color\":\"#4a5d6e\"}},\"low\":[200,100,200,100],\"name\":\"min = 100, max = 300\",\"open\":[200,100,200,100],\"type\":\"candlestick\",\"x\":[\"plan 1\",\"plan 1\",\"plan 2\",\"plan 2\"]},{\"close\":[200],\"decreasing\":{\"line\":{\"color\":\"#77a1a2\"}},\"high\":[200],\"increasing\":{\"line\":{\"color\":\"#77a1a2\"}},\"low\":[200],\"name\":\"mid = 200\",\"open\":[200],\"type\":\"candlestick\",\"x\":[\"plan 1\"]},{\"close\":[200],\"decreasing\":{\"line\":{\"color\":\"#77a1a2\"}},\"high\":[200],\"increasing\":{\"line\":{\"color\":\"#77a1a2\"}},\"low\":[200],\"name\":\"mid = 200\",\"open\":[200],\"type\":\"candlestick\",\"x\":[\"plan 2\"]},{\"close\":[125.0],\"decreasing\":{\"line\":{\"color\":\"#C00000\"}},\"high\":[125.0],\"increasing\":{\"line\":{\"color\":\"#C00000\"}},\"low\":[125.0],\"name\":\"Employee 1\",\"open\":[125.0],\"type\":\"candlestick\",\"x\":[\"plan 1\"]},{\"close\":[81.81818181818183],\"decreasing\":{\"line\":{\"color\":\"#C00000\"}},\"high\":[81.81818181818183],\"increasing\":{\"line\":{\"color\":\"#C00000\"}},\"low\":[81.81818181818183],\"name\":\"Employee 1\",\"open\":[81.81818181818183],\"type\":\"candlestick\",\"x\":[\"plan 2\"]},{\"close\":[203.52941176470586],\"decreasing\":{\"line\":{\"color\":\"#C00000\"}},\"high\":[203.52941176470586],\"increasing\":{\"line\":{\"color\":\"#C00000\"}},\"low\":[203.52941176470586],\"name\":\"Employee 2\",\"open\":[203.52941176470586],\"type\":\"candlestick\",\"x\":[\"plan 1\"]},{\"close\":[98.0],\"decreasing\":{\"line\":{\"color\":\"#C00000\"}},\"high\":[98.0],\"increasing\":{\"line\":{\"color\":\"#C00000\"}},\"low\":[98.0],\"name\":\"Employee 2\",\"open\":[98.0],\"type\":\"candlestick\",\"x\":[\"plan 2\"]},{\"close\":[184.6153846153846],\"decreasing\":{\"line\":{\"color\":\"#C00000\"}},\"high\":[184.6153846153846],\"increasing\":{\"line\":{\"color\":\"#C00000\"}},\"low\":[184.6153846153846],\"name\":\"Employee 3\",\"open\":[184.6153846153846],\"type\":\"candlestick\",\"x\":[\"plan 1\"]},{\"close\":[92.0],\"decreasing\":{\"line\":{\"color\":\"#C00000\"}},\"high\":[92.0],\"increasing\":{\"line\":{\"color\":\"#C00000\"}},\"low\":[92.0],\"name\":\"Employee 3\",\"open\":[92.0],\"type\":\"candlestick\",\"x\":[\"plan 2\"]},{\"close\":[300.7751937984496],\"decreasing\":{\"line\":{\"color\":\"#C00000\"}},\"high\":[300.7751937984496],\"increasing\":{\"line\":{\"color\":\"#C00000\"}},\"low\":[300.7751937984496],\"name\":\"Employee 4\",\"open\":[300.7751937984496],\"type\":\"candlestick\",\"x\":[\"plan 1\"]},{\"close\":[301.96078431372547],\"decreasing\":{\"line\":{\"color\":\"#C00000\"}},\"high\":[301.96078431372547],\"increasing\":{\"line\":{\"color\":\"#C00000\"}},\"low\":[301.96078431372547],\"name\":\"Employee 4\",\"open\":[301.96078431372547],\"type\":\"candlestick\",\"x\":[\"plan 2\"]},{\"close\":[159.0909090909091],\"decreasing\":{\"line\":{\"color\":\"#C00000\"}},\"high\":[159.0909090909091],\"increasing\":{\"line\":{\"color\":\"#C00000\"}},\"low\":[159.0909090909091],\"name\":\"Employee 5\",\"open\":[159.0909090909091],\"type\":\"candlestick\",\"x\":[\"plan 1\"]},{\"close\":[125.0],\"decreasing\":{\"line\":{\"color\":\"#C00000\"}},\"high\":[125.0],\"increasing\":{\"line\":{\"color\":\"#C00000\"}},\"low\":[125.0],\"name\":\"Employee 5\",\"open\":[125.0],\"type\":\"candlestick\",\"x\":[\"plan 2\"]},{\"close\":[160.6060606060606],\"decreasing\":{\"line\":{\"color\":\"#C00000\"}},\"high\":[160.6060606060606],\"increasing\":{\"line\":{\"color\":\"#C00000\"}},\"low\":[160.6060606060606],\"name\":\"Employee 6\",\"open\":[160.6060606060606],\"type\":\"candlestick\",\"x\":[\"plan 1\"]},{\"close\":[150.0],\"decreasing\":{\"line\":{\"color\":\"#C00000\"}},\"high\":[150.0],\"increasing\":{\"line\":{\"color\":\"#C00000\"}},\"low\":[150.0],\"name\":\"Employee 6\",\"open\":[150.0],\"type\":\"candlestick\",\"x\":[\"plan 2\"]},{\"close\":[238.88888888888889],\"decreasing\":{\"line\":{\"color\":\"#C00000\"}},\"high\":[238.88888888888889],\"increasing\":{\"line\":{\"color\":\"#C00000\"}},\"low\":[238.88888888888889],\"name\":\"Employee 7\",\"open\":[238.88888888888889],\"type\":\"candlestick\",\"x\":[\"plan 1\"]},{\"close\":[225.0],\"decreasing\":{\"line\":{\"color\":\"#C00000\"}},\"high\":[225.0],\"increasing\":{\"line\":{\"color\":\"#C00000\"}},\"low\":[225.0],\"name\":\"Employee 7\",\"open\":[225.0],\"type\":\"candlestick\",\"x\":[\"plan 2\"]}],                        {\"plot_bgcolor\":\"white\",\"template\":{\"data\":{\"bar\":[{\"error_x\":{\"color\":\"#2a3f5f\"},\"error_y\":{\"color\":\"#2a3f5f\"},\"marker\":{\"line\":{\"color\":\"#E5ECF6\",\"width\":0.5},\"pattern\":{\"fillmode\":\"overlay\",\"size\":10,\"solidity\":0.2}},\"type\":\"bar\"}],\"barpolar\":[{\"marker\":{\"line\":{\"color\":\"#E5ECF6\",\"width\":0.5},\"pattern\":{\"fillmode\":\"overlay\",\"size\":10,\"solidity\":0.2}},\"type\":\"barpolar\"}],\"carpet\":[{\"aaxis\":{\"endlinecolor\":\"#2a3f5f\",\"gridcolor\":\"white\",\"linecolor\":\"white\",\"minorgridcolor\":\"white\",\"startlinecolor\":\"#2a3f5f\"},\"baxis\":{\"endlinecolor\":\"#2a3f5f\",\"gridcolor\":\"white\",\"linecolor\":\"white\",\"minorgridcolor\":\"white\",\"startlinecolor\":\"#2a3f5f\"},\"type\":\"carpet\"}],\"choropleth\":[{\"colorbar\":{\"outlinewidth\":0,\"ticks\":\"\"},\"type\":\"choropleth\"}],\"contour\":[{\"colorbar\":{\"outlinewidth\":0,\"ticks\":\"\"},\"colorscale\":[[0.0,\"#0d0887\"],[0.1111111111111111,\"#46039f\"],[0.2222222222222222,\"#7201a8\"],[0.3333333333333333,\"#9c179e\"],[0.4444444444444444,\"#bd3786\"],[0.5555555555555556,\"#d8576b\"],[0.6666666666666666,\"#ed7953\"],[0.7777777777777778,\"#fb9f3a\"],[0.8888888888888888,\"#fdca26\"],[1.0,\"#f0f921\"]],\"type\":\"contour\"}],\"contourcarpet\":[{\"colorbar\":{\"outlinewidth\":0,\"ticks\":\"\"},\"type\":\"contourcarpet\"}],\"heatmap\":[{\"colorbar\":{\"outlinewidth\":0,\"ticks\":\"\"},\"colorscale\":[[0.0,\"#0d0887\"],[0.1111111111111111,\"#46039f\"],[0.2222222222222222,\"#7201a8\"],[0.3333333333333333,\"#9c179e\"],[0.4444444444444444,\"#bd3786\"],[0.5555555555555556,\"#d8576b\"],[0.6666666666666666,\"#ed7953\"],[0.7777777777777778,\"#fb9f3a\"],[0.8888888888888888,\"#fdca26\"],[1.0,\"#f0f921\"]],\"type\":\"heatmap\"}],\"heatmapgl\":[{\"colorbar\":{\"outlinewidth\":0,\"ticks\":\"\"},\"colorscale\":[[0.0,\"#0d0887\"],[0.1111111111111111,\"#46039f\"],[0.2222222222222222,\"#7201a8\"],[0.3333333333333333,\"#9c179e\"],[0.4444444444444444,\"#bd3786\"],[0.5555555555555556,\"#d8576b\"],[0.6666666666666666,\"#ed7953\"],[0.7777777777777778,\"#fb9f3a\"],[0.8888888888888888,\"#fdca26\"],[1.0,\"#f0f921\"]],\"type\":\"heatmapgl\"}],\"histogram\":[{\"marker\":{\"pattern\":{\"fillmode\":\"overlay\",\"size\":10,\"solidity\":0.2}},\"type\":\"histogram\"}],\"histogram2d\":[{\"colorbar\":{\"outlinewidth\":0,\"ticks\":\"\"},\"colorscale\":[[0.0,\"#0d0887\"],[0.1111111111111111,\"#46039f\"],[0.2222222222222222,\"#7201a8\"],[0.3333333333333333,\"#9c179e\"],[0.4444444444444444,\"#bd3786\"],[0.5555555555555556,\"#d8576b\"],[0.6666666666666666,\"#ed7953\"],[0.7777777777777778,\"#fb9f3a\"],[0.8888888888888888,\"#fdca26\"],[1.0,\"#f0f921\"]],\"type\":\"histogram2d\"}],\"histogram2dcontour\":[{\"colorbar\":{\"outlinewidth\":0,\"ticks\":\"\"},\"colorscale\":[[0.0,\"#0d0887\"],[0.1111111111111111,\"#46039f\"],[0.2222222222222222,\"#7201a8\"],[0.3333333333333333,\"#9c179e\"],[0.4444444444444444,\"#bd3786\"],[0.5555555555555556,\"#d8576b\"],[0.6666666666666666,\"#ed7953\"],[0.7777777777777778,\"#fb9f3a\"],[0.8888888888888888,\"#fdca26\"],[1.0,\"#f0f921\"]],\"type\":\"histogram2dcontour\"}],\"mesh3d\":[{\"colorbar\":{\"outlinewidth\":0,\"ticks\":\"\"},\"type\":\"mesh3d\"}],\"parcoords\":[{\"line\":{\"colorbar\":{\"outlinewidth\":0,\"ticks\":\"\"}},\"type\":\"parcoords\"}],\"pie\":[{\"automargin\":true,\"type\":\"pie\"}],\"scatter\":[{\"marker\":{\"colorbar\":{\"outlinewidth\":0,\"ticks\":\"\"}},\"type\":\"scatter\"}],\"scatter3d\":[{\"line\":{\"colorbar\":{\"outlinewidth\":0,\"ticks\":\"\"}},\"marker\":{\"colorbar\":{\"outlinewidth\":0,\"ticks\":\"\"}},\"type\":\"scatter3d\"}],\"scattercarpet\":[{\"marker\":{\"colorbar\":{\"outlinewidth\":0,\"ticks\":\"\"}},\"type\":\"scattercarpet\"}],\"scattergeo\":[{\"marker\":{\"colorbar\":{\"outlinewidth\":0,\"ticks\":\"\"}},\"type\":\"scattergeo\"}],\"scattergl\":[{\"marker\":{\"colorbar\":{\"outlinewidth\":0,\"ticks\":\"\"}},\"type\":\"scattergl\"}],\"scattermapbox\":[{\"marker\":{\"colorbar\":{\"outlinewidth\":0,\"ticks\":\"\"}},\"type\":\"scattermapbox\"}],\"scatterpolar\":[{\"marker\":{\"colorbar\":{\"outlinewidth\":0,\"ticks\":\"\"}},\"type\":\"scatterpolar\"}],\"scatterpolargl\":[{\"marker\":{\"colorbar\":{\"outlinewidth\":0,\"ticks\":\"\"}},\"type\":\"scatterpolargl\"}],\"scatterternary\":[{\"marker\":{\"colorbar\":{\"outlinewidth\":0,\"ticks\":\"\"}},\"type\":\"scatterternary\"}],\"surface\":[{\"colorbar\":{\"outlinewidth\":0,\"ticks\":\"\"},\"colorscale\":[[0.0,\"#0d0887\"],[0.1111111111111111,\"#46039f\"],[0.2222222222222222,\"#7201a8\"],[0.3333333333333333,\"#9c179e\"],[0.4444444444444444,\"#bd3786\"],[0.5555555555555556,\"#d8576b\"],[0.6666666666666666,\"#ed7953\"],[0.7777777777777778,\"#fb9f3a\"],[0.8888888888888888,\"#fdca26\"],[1.0,\"#f0f921\"]],\"type\":\"surface\"}],\"table\":[{\"cells\":{\"fill\":{\"color\":\"#EBF0F8\"},\"line\":{\"color\":\"white\"}},\"header\":{\"fill\":{\"color\":\"#C8D4E3\"},\"line\":{\"color\":\"white\"}},\"type\":\"table\"}]},\"layout\":{\"annotationdefaults\":{\"arrowcolor\":\"#2a3f5f\",\"arrowhead\":0,\"arrowwidth\":1},\"autotypenumbers\":\"strict\",\"coloraxis\":{\"colorbar\":{\"outlinewidth\":0,\"ticks\":\"\"}},\"colorscale\":{\"diverging\":[[0,\"#8e0152\"],[0.1,\"#c51b7d\"],[0.2,\"#de77ae\"],[0.3,\"#f1b6da\"],[0.4,\"#fde0ef\"],[0.5,\"#f7f7f7\"],[0.6,\"#e6f5d0\"],[0.7,\"#b8e186\"],[0.8,\"#7fbc41\"],[0.9,\"#4d9221\"],[1,\"#276419\"]],\"sequential\":[[0.0,\"#0d0887\"],[0.1111111111111111,\"#46039f\"],[0.2222222222222222,\"#7201a8\"],[0.3333333333333333,\"#9c179e\"],[0.4444444444444444,\"#bd3786\"],[0.5555555555555556,\"#d8576b\"],[0.6666666666666666,\"#ed7953\"],[0.7777777777777778,\"#fb9f3a\"],[0.8888888888888888,\"#fdca26\"],[1.0,\"#f0f921\"]],\"sequentialminus\":[[0.0,\"#0d0887\"],[0.1111111111111111,\"#46039f\"],[0.2222222222222222,\"#7201a8\"],[0.3333333333333333,\"#9c179e\"],[0.4444444444444444,\"#bd3786\"],[0.5555555555555556,\"#d8576b\"],[0.6666666666666666,\"#ed7953\"],[0.7777777777777778,\"#fb9f3a\"],[0.8888888888888888,\"#fdca26\"],[1.0,\"#f0f921\"]]},\"colorway\":[\"#636efa\",\"#EF553B\",\"#00cc96\",\"#ab63fa\",\"#FFA15A\",\"#19d3f3\",\"#FF6692\",\"#B6E880\",\"#FF97FF\",\"#FECB52\"],\"font\":{\"color\":\"#2a3f5f\"},\"geo\":{\"bgcolor\":\"white\",\"lakecolor\":\"white\",\"landcolor\":\"#E5ECF6\",\"showlakes\":true,\"showland\":true,\"subunitcolor\":\"white\"},\"hoverlabel\":{\"align\":\"left\"},\"hovermode\":\"closest\",\"mapbox\":{\"style\":\"light\"},\"paper_bgcolor\":\"white\",\"plot_bgcolor\":\"#E5ECF6\",\"polar\":{\"angularaxis\":{\"gridcolor\":\"white\",\"linecolor\":\"white\",\"ticks\":\"\"},\"bgcolor\":\"#E5ECF6\",\"radialaxis\":{\"gridcolor\":\"white\",\"linecolor\":\"white\",\"ticks\":\"\"}},\"scene\":{\"xaxis\":{\"backgroundcolor\":\"#E5ECF6\",\"gridcolor\":\"white\",\"gridwidth\":2,\"linecolor\":\"white\",\"showbackground\":true,\"ticks\":\"\",\"zerolinecolor\":\"white\"},\"yaxis\":{\"backgroundcolor\":\"#E5ECF6\",\"gridcolor\":\"white\",\"gridwidth\":2,\"linecolor\":\"white\",\"showbackground\":true,\"ticks\":\"\",\"zerolinecolor\":\"white\"},\"zaxis\":{\"backgroundcolor\":\"#E5ECF6\",\"gridcolor\":\"white\",\"gridwidth\":2,\"linecolor\":\"white\",\"showbackground\":true,\"ticks\":\"\",\"zerolinecolor\":\"white\"}},\"shapedefaults\":{\"line\":{\"color\":\"#2a3f5f\"}},\"ternary\":{\"aaxis\":{\"gridcolor\":\"white\",\"linecolor\":\"white\",\"ticks\":\"\"},\"baxis\":{\"gridcolor\":\"white\",\"linecolor\":\"white\",\"ticks\":\"\"},\"bgcolor\":\"#E5ECF6\",\"caxis\":{\"gridcolor\":\"white\",\"linecolor\":\"white\",\"ticks\":\"\"}},\"title\":{\"x\":0.05},\"xaxis\":{\"automargin\":true,\"gridcolor\":\"white\",\"linecolor\":\"white\",\"ticks\":\"\",\"title\":{\"standoff\":15},\"zerolinecolor\":\"white\",\"zerolinewidth\":2},\"yaxis\":{\"automargin\":true,\"gridcolor\":\"white\",\"linecolor\":\"white\",\"ticks\":\"\",\"title\":{\"standoff\":15},\"zerolinecolor\":\"white\",\"zerolinewidth\":2}}},\"title\":{\"font\":{\"color\":\"#77a1a2\",\"family\":\"Work Sans\",\"size\":30},\"text\":\"Clays ltd.\"},\"xaxis\":{\"gridcolor\":\"#DDDDDD\",\"rangeslider\":{\"visible\":false}},\"yaxis\":{\"dtick\":10,\"gridcolor\":\"#DDDDDD\",\"title\":{\"text\":\"Score\"}}},                        {\"responsive\": true}                    ).then(function(){\n",
       "                            \n",
       "var gd = document.getElementById('dbe79f61-abb7-47f0-863b-0d95c136c37f');\n",
       "var x = new MutationObserver(function (mutations, observer) {{\n",
       "        var display = window.getComputedStyle(gd).display;\n",
       "        if (!display || display === 'none') {{\n",
       "            console.log([gd, 'removed!']);\n",
       "            Plotly.purge(gd);\n",
       "            observer.disconnect();\n",
       "        }}\n",
       "}});\n",
       "\n",
       "// Listen for the removal of the full notebook cells\n",
       "var notebookContainer = gd.closest('#notebook-container');\n",
       "if (notebookContainer) {{\n",
       "    x.observe(notebookContainer, {childList: true});\n",
       "}}\n",
       "\n",
       "// Listen for the clearing of the current output cell\n",
       "var outputEl = gd.closest('.output');\n",
       "if (outputEl) {{\n",
       "    x.observe(outputEl, {childList: true});\n",
       "}}\n",
       "\n",
       "                        })                };                });            </script>        </div>"
      ]
     },
     "metadata": {},
     "output_type": "display_data"
    }
   ],
   "source": [
    "import plotly.graph_objects as go\n",
    "import pandas as pd\n",
    "\n",
    "# this retrieves and stores the actual salary data of employees\n",
    "salary_data = {\"names\" : [],\n",
    "              \"salaries\" : [],\n",
    "              \"band_of_staffer\" : [],\n",
    "              \"plan\" : []}\n",
    "df = pd.read_excel(\"salary_data.xlsx\")\n",
    "\n",
    "\n",
    "# for each employee, this adds in two duplicate rows, one for each plan\n",
    "for i in range(len(df)):\n",
    "    for j in range(2):\n",
    "        salary_data[\"names\"].append(df[\"names\"][i])\n",
    "        salary_data[\"salaries\"].append(df[\"salaries\"][i])\n",
    "        salary_data[\"band_of_staffer\"].append(df[\"band_of_staffer\"][i])\n",
    "        salary_data[\"plan\"].append(f\"plan {j + 1}\")\n",
    "\n",
    "       \n",
    "# this retrieves and stores the salary bands that employees are subject to\n",
    "band_data_plan_1 = {\"band_of_policy\" : [],\n",
    "                    \"min\" : [],\n",
    "                    \"mid\" : [],\n",
    "                    \"max\" : []}\n",
    "df = pd.read_excel(\"band_data_plan_1.xlsx\")\n",
    "band_data_plan_1[\"band_of_policy\"] = [df[\"band_of_policy\"][i] for i in range(len(df))]\n",
    "band_data_plan_1[\"min\"] = [df[\"min\"][i] for i in range(len(df))]\n",
    "band_data_plan_1[\"mid\"] = [df[\"mid\"][i] for i in range(len(df))]\n",
    "band_data_plan_1[\"max\"] = [df[\"max\"][i] for i in range(len(df))]\n",
    "\n",
    "band_data_plan_2 = {\"band_of_policy\" : [],\n",
    "                    \"min\" : [],\n",
    "                    \"mid\" : [],\n",
    "                    \"max\" : []}\n",
    "df = pd.read_excel(\"band_data_plan_2.xlsx\")\n",
    "band_data_plan_2[\"band_of_policy\"] = [df[\"band_of_policy\"][i] for i in range(len(df))]\n",
    "band_data_plan_2[\"min\"] = [df[\"min\"][i] for i in range(len(df))]\n",
    "band_data_plan_2[\"mid\"] = [df[\"mid\"][i] for i in range(len(df))]\n",
    "band_data_plan_2[\"max\"] = [df[\"max\"][i] for i in range(len(df))]\n",
    "\n",
    "    \n",
    "# the positions of the employees on the charts are stored here\n",
    "employee_scores = {\"plan\":[],\n",
    "                   \"name\":[],\n",
    "                   \"only\":[]}\n",
    "\n",
    "\n",
    "# this loop calculates the score, i.e., the positioning of the employees on the charts\n",
    "salary_data_index = 0\n",
    "for i in salary_data[\"names\"]:    \n",
    "\n",
    "    band_data_index = 0\n",
    "    \n",
    "    if salary_data[\"plan\"][salary_data_index] == \"plan 1\":\n",
    "        band_data = band_data_plan_1\n",
    "    else:\n",
    "        band_data = band_data_plan_2\n",
    "        \n",
    "    # loops through the bands until it reaches the same as the current employee\n",
    "    # so the correct band_data_index is identified    \n",
    "    for j in band_data[\"band_of_policy\"]:\n",
    "        if band_data[\"band_of_policy\"][band_data_index] == salary_data[\"band_of_staffer\"][salary_data_index]:\n",
    "            break\n",
    "        band_data_index += 1\n",
    "    \n",
    "    # calculates score for figures above max\n",
    "    if salary_data[\"salaries\"][salary_data_index] >= band_data[\"max\"][band_data_index]:\n",
    "        score = salary_data[\"salaries\"][salary_data_index] / band_data[\"max\"][band_data_index]\n",
    "        employee_scores[\"plan\"].append(salary_data[\"plan\"][salary_data_index])\n",
    "        employee_scores[\"name\"].append(salary_data[\"names\"][salary_data_index])\n",
    "        employee_scores[\"only\"].append((score + 2) * 100)\n",
    "  \n",
    "    # calculates score for figures between mid and max\n",
    "    elif salary_data[\"salaries\"][salary_data_index] >= band_data[\"mid\"][band_data_index]:\n",
    "        diff = salary_data[\"salaries\"][salary_data_index] - band_data[\"mid\"][band_data_index]\n",
    "        score = diff / (band_data[\"max\"][band_data_index] - band_data[\"mid\"][band_data_index])\n",
    "        employee_scores[\"plan\"].append(salary_data[\"plan\"][salary_data_index])\n",
    "        employee_scores[\"name\"].append(salary_data[\"names\"][salary_data_index])\n",
    "        employee_scores[\"only\"].append((score + 2) * 100)\n",
    "\n",
    "    # calculates score for figures between min and mid \n",
    "    elif salary_data[\"salaries\"][salary_data_index] >= band_data[\"min\"][band_data_index]:\n",
    "        diff = salary_data[\"salaries\"][salary_data_index] - band_data[\"min\"][band_data_index]\n",
    "        score = diff / (band_data[\"mid\"][band_data_index] - band_data[\"min\"][band_data_index])\n",
    "        employee_scores[\"plan\"].append(salary_data[\"plan\"][salary_data_index])\n",
    "        employee_scores[\"name\"].append(salary_data[\"names\"][salary_data_index])\n",
    "        employee_scores[\"only\"].append((score + 1) * 100)   \n",
    "\n",
    "    else: # calculates score for figures below min\n",
    "        score = salary_data[\"salaries\"][salary_data_index] / band_data[\"min\"][band_data_index]\n",
    "        employee_scores[\"plan\"].append(salary_data[\"plan\"][salary_data_index])\n",
    "        employee_scores[\"name\"].append(salary_data[\"names\"][salary_data_index])\n",
    "        employee_scores[\"only\"].append((score * 100))\n",
    "    \n",
    "    salary_data_index += 1\n",
    "\n",
    "# this draws the candlesticks from 100-300\n",
    "data = {\"plan\":[\"plan 1\",\"plan 1\",\"plan 2\",\"plan 2\"],\n",
    "        \"max\":[300,200,300,200],\n",
    "        \"min\":[200,100,200,100]}\n",
    "df = pd.DataFrame(data)\n",
    "fig = go.Figure(data = [go.Candlestick(x = df['plan'],\n",
    "                open = df['min'],\n",
    "                high = df['max'],\n",
    "                low = df['min'],\n",
    "                close = df['max'],\n",
    "                name = \"min = 100, max = 300\",\n",
    "                increasing_line_color = \"#4a5d6e\",\n",
    "                decreasing_line_color = \"#4a5d6e\",\n",
    "                increasing_fillcolor = \"#4a5d6e\",\n",
    "                decreasing_fillcolor = \"#4a5d6e\")])\n",
    "\n",
    "# this marks the mid point by sketching a 1D candlestick to function as a line\n",
    "x_axis = {\"plan\":[\"plan 1\",\"plan 2\"],\n",
    "        \"mid\":[200,200],\n",
    "        \"name\":[\"mid = 200\",\"mid = 200\"]}\n",
    "for i in range(1,3):\n",
    "    fig.add_trace(go.Candlestick(x = [f\"plan {i}\"],\n",
    "                                 open = [200],\n",
    "                                 high = [200],\n",
    "                                 low = [200],\n",
    "                                 close = [200],\n",
    "                                 name = \"mid = 200\",\n",
    "                                 increasing_line_color = '#77a1a2', \n",
    "                                 decreasing_line_color = '#77a1a2'))\n",
    "\n",
    "# a line for each score\n",
    "for i in range(len(employee_scores['plan'])):\n",
    "    fig.add_trace(go.Candlestick(x = [employee_scores['plan'][i]],\n",
    "                                 open = [employee_scores['only'][i]],\n",
    "                                 high = [employee_scores['only'][i]],\n",
    "                                 low = [employee_scores['only'][i]],\n",
    "                                 close = [employee_scores['only'][i]],\n",
    "                                 name = employee_scores['name'][i],\n",
    "                                 increasing_line_color = '#C00000', \n",
    "                                 decreasing_line_color = '#C00000'))\n",
    "\n",
    "# this generates the graph\n",
    "fig.update_layout(\n",
    "    xaxis_rangeslider_visible = False,\n",
    "    title = 'Clays ltd.',\n",
    "    titlefont = dict(family = \"Work Sans\", size = 30, color = \"#77a1a2\"),\n",
    "    yaxis_title = 'Score',\n",
    "    yaxis = dict(dtick = 10),\n",
    "    xaxis_gridcolor = \"#DDDDDD\",\n",
    "    yaxis_gridcolor = \"#DDDDDD\",\n",
    "    plot_bgcolor = 'white')\n",
    "            \n",
    "fig.show()"
   ]
  },
  {
   "cell_type": "code",
   "execution_count": null,
   "id": "e3128ef2",
   "metadata": {},
   "outputs": [],
   "source": []
  }
 ],
 "metadata": {
  "kernelspec": {
   "display_name": "Python 3 (ipykernel)",
   "language": "python",
   "name": "python3"
  },
  "language_info": {
   "codemirror_mode": {
    "name": "ipython",
    "version": 3
   },
   "file_extension": ".py",
   "mimetype": "text/x-python",
   "name": "python",
   "nbconvert_exporter": "python",
   "pygments_lexer": "ipython3",
   "version": "3.8.8"
  }
 },
 "nbformat": 4,
 "nbformat_minor": 5
}
