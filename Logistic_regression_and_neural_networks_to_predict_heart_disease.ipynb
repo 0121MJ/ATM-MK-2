{
 "cells": [
  {
   "cell_type": "markdown",
   "id": "29683284",
   "metadata": {
    "id": "29683284"
   },
   "source": [
    "### Here I will use a logistic regression model and then an artificial neural network which will use the variables below to predict which patients do and do not have heart disease (HD)\n",
    "\n",
    "The following is a database of 11 medical attributes of 918 patients collected from several hospitals, collated on kaggle.com (https://www.kaggle.com/fedesoriano/heart-failure-prediction)\n",
    "\n",
    "Attributes include:\n",
    "\n",
    "Age: age of the patient in years\n",
    "\n",
    "Sex: (M/F)\n",
    "\n",
    "ChestPainType: chest pain type (TA: Typical Angina / ATA: Atypical Angina / NAP: Non-Anginal Pain / ASY: Asymptomatic)\n",
    "\n",
    "RestingBP: resting blood pressure (mm Hg)\n",
    "\n",
    "Cholesterol: serum cholesterol (mm/dl)\n",
    "\n",
    "FastingBS: fasting blood sugar (1: if FastingBS > 120 mg/dl / 0: otherwise)\n",
    "\n",
    "RestingECG: resting electrocardiogram results (Normal: Normal / ST: having ST-T wave abnormality (T wave inversions and/or ST elevation or depression of > 0.05 mV) / LVH: showing probable or definite left ventricular hypertrophy by Estes' criteria)\n",
    "\n",
    "MaxHR: maximum heart rate achieved (between 60 and 202 bpm)\n",
    "\n",
    "ExerciseAngina: exercise-induced angina (Y: Yes / N: No)\n",
    "\n",
    "Oldpeak: oldpeak = ST (Numeric value measured in depression)\n",
    "\n",
    "ST_Slope: the slope of the peak exercise stress test segment - tolerance to exercise, flat and down often indicate heart issues\n",
    "    (Up: upsloping / Flat: flat / Down: downsloping)\n",
    "\n",
    "HeartDisease:\n",
    "    0: Patient is healthy /\n",
    "    1: Patient has heart disease"
   ]
  },
  {
   "cell_type": "code",
   "execution_count": 2,
   "id": "cae7a3a9",
   "metadata": {
    "id": "cae7a3a9"
   },
   "outputs": [],
   "source": [
    "# load the libraries\n",
    "import pandas as pd\n",
    "import numpy as np\n",
    "import seaborn as sns"
   ]
  },
  {
   "cell_type": "code",
   "execution_count": 1,
   "id": "Z86LebU37bA9",
   "metadata": {
    "colab": {
     "base_uri": "https://localhost:8080/",
     "height": 73,
     "resources": {
      "http://localhost:8080/nbextensions/google.colab/files.js": {
       "data": "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",
       "headers": [
        [
         "content-type",
         "application/javascript"
        ]
       ],
       "ok": true,
       "status": 200,
       "status_text": ""
      }
     }
    },
    "id": "Z86LebU37bA9",
    "outputId": "a0899e39-4b18-484a-9dc0-295af9a72a62"
   },
   "outputs": [
    {
     "data": {
      "text/html": [
       "\n",
       "     <input type=\"file\" id=\"files-1d15dadb-6893-48bb-91e6-e6200dc36801\" name=\"files[]\" multiple disabled\n",
       "        style=\"border:none\" />\n",
       "     <output id=\"result-1d15dadb-6893-48bb-91e6-e6200dc36801\">\n",
       "      Upload widget is only available when the cell has been executed in the\n",
       "      current browser session. Please rerun this cell to enable.\n",
       "      </output>\n",
       "      <script src=\"/nbextensions/google.colab/files.js\"></script> "
      ],
      "text/plain": [
       "<IPython.core.display.HTML object>"
      ]
     },
     "metadata": {},
     "output_type": "display_data"
    },
    {
     "name": "stdout",
     "output_type": "stream",
     "text": [
      "Saving heart.csv to heart.csv\n"
     ]
    }
   ],
   "source": [
    "# to load data when using google colab\n",
    "from google.colab import files\n",
    "uploaded = files.upload()"
   ]
  },
  {
   "cell_type": "code",
   "execution_count": 3,
   "id": "uJZzMLRk7q5s",
   "metadata": {
    "id": "uJZzMLRk7q5s"
   },
   "outputs": [],
   "source": [
    "import io\n",
    "data = pd.read_csv(io.BytesIO(uploaded['heart.csv']))"
   ]
  },
  {
   "cell_type": "code",
   "execution_count": 25,
   "id": "b358c10c",
   "metadata": {
    "id": "b358c10c"
   },
   "outputs": [],
   "source": [
    "# to load the data when using Jupyter notebooks\n",
    "data = pd.read_csv('heart.csv')"
   ]
  },
  {
   "cell_type": "code",
   "execution_count": 5,
   "id": "3ca22133",
   "metadata": {
    "colab": {
     "base_uri": "https://localhost:8080/",
     "height": 205
    },
    "id": "3ca22133",
    "outputId": "7b5878f5-f1d8-4b94-bf08-c2bccceafab9"
   },
   "outputs": [
    {
     "data": {
      "text/html": [
       "<div>\n",
       "<style scoped>\n",
       "    .dataframe tbody tr th:only-of-type {\n",
       "        vertical-align: middle;\n",
       "    }\n",
       "\n",
       "    .dataframe tbody tr th {\n",
       "        vertical-align: top;\n",
       "    }\n",
       "\n",
       "    .dataframe thead th {\n",
       "        text-align: right;\n",
       "    }\n",
       "</style>\n",
       "<table border=\"1\" class=\"dataframe\">\n",
       "  <thead>\n",
       "    <tr style=\"text-align: right;\">\n",
       "      <th></th>\n",
       "      <th>Age</th>\n",
       "      <th>Sex</th>\n",
       "      <th>ChestPainType</th>\n",
       "      <th>RestingBP</th>\n",
       "      <th>Cholesterol</th>\n",
       "      <th>FastingBS</th>\n",
       "      <th>RestingECG</th>\n",
       "      <th>MaxHR</th>\n",
       "      <th>ExerciseAngina</th>\n",
       "      <th>Oldpeak</th>\n",
       "      <th>ST_Slope</th>\n",
       "      <th>HeartDisease</th>\n",
       "    </tr>\n",
       "  </thead>\n",
       "  <tbody>\n",
       "    <tr>\n",
       "      <th>0</th>\n",
       "      <td>40</td>\n",
       "      <td>M</td>\n",
       "      <td>ATA</td>\n",
       "      <td>140</td>\n",
       "      <td>289</td>\n",
       "      <td>0</td>\n",
       "      <td>Normal</td>\n",
       "      <td>172</td>\n",
       "      <td>N</td>\n",
       "      <td>0.0</td>\n",
       "      <td>Up</td>\n",
       "      <td>0</td>\n",
       "    </tr>\n",
       "    <tr>\n",
       "      <th>1</th>\n",
       "      <td>49</td>\n",
       "      <td>F</td>\n",
       "      <td>NAP</td>\n",
       "      <td>160</td>\n",
       "      <td>180</td>\n",
       "      <td>0</td>\n",
       "      <td>Normal</td>\n",
       "      <td>156</td>\n",
       "      <td>N</td>\n",
       "      <td>1.0</td>\n",
       "      <td>Flat</td>\n",
       "      <td>1</td>\n",
       "    </tr>\n",
       "    <tr>\n",
       "      <th>2</th>\n",
       "      <td>37</td>\n",
       "      <td>M</td>\n",
       "      <td>ATA</td>\n",
       "      <td>130</td>\n",
       "      <td>283</td>\n",
       "      <td>0</td>\n",
       "      <td>ST</td>\n",
       "      <td>98</td>\n",
       "      <td>N</td>\n",
       "      <td>0.0</td>\n",
       "      <td>Up</td>\n",
       "      <td>0</td>\n",
       "    </tr>\n",
       "    <tr>\n",
       "      <th>3</th>\n",
       "      <td>48</td>\n",
       "      <td>F</td>\n",
       "      <td>ASY</td>\n",
       "      <td>138</td>\n",
       "      <td>214</td>\n",
       "      <td>0</td>\n",
       "      <td>Normal</td>\n",
       "      <td>108</td>\n",
       "      <td>Y</td>\n",
       "      <td>1.5</td>\n",
       "      <td>Flat</td>\n",
       "      <td>1</td>\n",
       "    </tr>\n",
       "    <tr>\n",
       "      <th>4</th>\n",
       "      <td>54</td>\n",
       "      <td>M</td>\n",
       "      <td>NAP</td>\n",
       "      <td>150</td>\n",
       "      <td>195</td>\n",
       "      <td>0</td>\n",
       "      <td>Normal</td>\n",
       "      <td>122</td>\n",
       "      <td>N</td>\n",
       "      <td>0.0</td>\n",
       "      <td>Up</td>\n",
       "      <td>0</td>\n",
       "    </tr>\n",
       "  </tbody>\n",
       "</table>\n",
       "</div>"
      ],
      "text/plain": [
       "   Age Sex ChestPainType  ...  Oldpeak  ST_Slope  HeartDisease\n",
       "0   40   M           ATA  ...      0.0        Up             0\n",
       "1   49   F           NAP  ...      1.0      Flat             1\n",
       "2   37   M           ATA  ...      0.0        Up             0\n",
       "3   48   F           ASY  ...      1.5      Flat             1\n",
       "4   54   M           NAP  ...      0.0        Up             0\n",
       "\n",
       "[5 rows x 12 columns]"
      ]
     },
     "execution_count": 5,
     "metadata": {},
     "output_type": "execute_result"
    }
   ],
   "source": [
    "# A glimpse of the variables\n",
    "data.head()"
   ]
  },
  {
   "cell_type": "code",
   "execution_count": 6,
   "id": "3f28ed81",
   "metadata": {
    "colab": {
     "base_uri": "https://localhost:8080/",
     "height": 387
    },
    "id": "3f28ed81",
    "outputId": "c6520549-527f-44cd-a300-f23dbd3609f1",
    "scrolled": false
   },
   "outputs": [
    {
     "data": {
      "text/plain": [
       "<seaborn.axisgrid.FacetGrid at 0x7ff327190e50>"
      ]
     },
     "execution_count": 6,
     "metadata": {},
     "output_type": "execute_result"
    },
    {
     "data": {
      "image/png": "[encoded data removed]",
      "text/plain": [
       "<Figure size 360x360 with 1 Axes>"
      ]
     },
     "metadata": {
      "needs_background": "light"
     },
     "output_type": "display_data"
    }
   ],
   "source": [
    "# to start, here we see that a large section of the sample has 0 Cholesterol, which is not possible so these results\n",
    "# may have originally been nulls\n",
    "sns.displot(x=data['Cholesterol'],bins=50)"
   ]
  },
  {
   "cell_type": "code",
   "execution_count": 28,
   "id": "9e7e5ee6",
   "metadata": {
    "colab": {
     "base_uri": "https://localhost:8080/",
     "height": 387
    },
    "id": "9e7e5ee6",
    "outputId": "0ddcb618-d722-452f-dcad-1e39b3c2c4e2"
   },
   "outputs": [
    {
     "data": {
      "text/plain": [
       "<seaborn.axisgrid.FacetGrid at 0x7ff30c0f8190>"
      ]
     },
     "execution_count": 28,
     "metadata": {},
     "output_type": "execute_result"
    },
    {
     "data": {
      "image/png": "[encoded data removed]",
      "text/plain": [
       "<Figure size 360x360 with 1 Axes>"
      ]
     },
     "metadata": {
      "needs_background": "light"
     },
     "output_type": "display_data"
    }
   ],
   "source": [
    "# so such instances are removed\n",
    "data = data[data['Cholesterol']!=0]\n",
    "sns.displot(x=data['Cholesterol'],bins=50)"
   ]
  },
  {
   "cell_type": "code",
   "execution_count": 29,
   "id": "17e09cfc",
   "metadata": {
    "colab": {
     "base_uri": "https://localhost:8080/"
    },
    "id": "17e09cfc",
    "outputId": "1d661b96-5002-4cd6-84bb-93a799f69735"
   },
   "outputs": [
    {
     "name": "stdout",
     "output_type": "stream",
     "text": [
      "(0, 12)\n"
     ]
    }
   ],
   "source": [
    "# similarly we see here that one patient apparently has a blood pressure of zero, so we shall omit this one too\n",
    "view = data[data['RestingBP']==0]\n",
    "print(view.shape)\n",
    "data = data[data['RestingBP']!=0]"
   ]
  },
  {
   "cell_type": "markdown",
   "id": "ff8e2f2d",
   "metadata": {
    "id": "ff8e2f2d"
   },
   "source": [
    "#### For the models to be able to interpret the data we must convert the categorical variables listed below into dummies\n",
    "\n",
    "    - Sex\n",
    "    - ChestPainType\n",
    "    - RestingECG\n",
    "    - ExerciseAngina\n",
    "    - ST_Slope\t\n",
    "\n",
    "We add n-1 dummies for every category in order to avoid the perfect multicollinearity trap. The 'missing' category is inferred by process of elimination; e.g. we store that a patient is *not* 'M' (M = 0), therefore they must be 'F'."
   ]
  },
  {
   "cell_type": "code",
   "execution_count": 9,
   "id": "82a95ff2",
   "metadata": {
    "colab": {
     "base_uri": "https://localhost:8080/",
     "height": 205
    },
    "id": "82a95ff2",
    "outputId": "51344fb3-b3ad-4430-f58c-891827b102ba",
    "scrolled": true
   },
   "outputs": [
    {
     "data": {
      "text/html": [
       "<div>\n",
       "<style scoped>\n",
       "    .dataframe tbody tr th:only-of-type {\n",
       "        vertical-align: middle;\n",
       "    }\n",
       "\n",
       "    .dataframe tbody tr th {\n",
       "        vertical-align: top;\n",
       "    }\n",
       "\n",
       "    .dataframe thead th {\n",
       "        text-align: right;\n",
       "    }\n",
       "</style>\n",
       "<table border=\"1\" class=\"dataframe\">\n",
       "  <thead>\n",
       "    <tr style=\"text-align: right;\">\n",
       "      <th></th>\n",
       "      <th>M</th>\n",
       "    </tr>\n",
       "  </thead>\n",
       "  <tbody>\n",
       "    <tr>\n",
       "      <th>0</th>\n",
       "      <td>1</td>\n",
       "    </tr>\n",
       "    <tr>\n",
       "      <th>1</th>\n",
       "      <td>0</td>\n",
       "    </tr>\n",
       "    <tr>\n",
       "      <th>2</th>\n",
       "      <td>1</td>\n",
       "    </tr>\n",
       "    <tr>\n",
       "      <th>3</th>\n",
       "      <td>0</td>\n",
       "    </tr>\n",
       "    <tr>\n",
       "      <th>4</th>\n",
       "      <td>1</td>\n",
       "    </tr>\n",
       "  </tbody>\n",
       "</table>\n",
       "</div>"
      ],
      "text/plain": [
       "   M\n",
       "0  1\n",
       "1  0\n",
       "2  1\n",
       "3  0\n",
       "4  1"
      ]
     },
     "execution_count": 9,
     "metadata": {},
     "output_type": "execute_result"
    }
   ],
   "source": [
    "# dummies for gender, only 'M' is stored\n",
    "sex = pd.get_dummies(data['Sex'],drop_first=True)\n",
    "sex.head()"
   ]
  },
  {
   "cell_type": "code",
   "execution_count": 10,
   "id": "9c7f97af",
   "metadata": {
    "id": "9c7f97af"
   },
   "outputs": [],
   "source": [
    "# making dummies for the remaining variables\n",
    "ChestPainType = pd.get_dummies(data['ChestPainType'],drop_first=True)\n",
    "RestingECG = pd.get_dummies(data['RestingECG'],drop_first=True)\n",
    "ExerciseAngina = pd.get_dummies(data['ExerciseAngina'],drop_first=True)\n",
    "ST_Slope = pd.get_dummies(data['ST_Slope'],drop_first=True)"
   ]
  },
  {
   "cell_type": "code",
   "execution_count": 11,
   "id": "dadd9abc",
   "metadata": {
    "id": "dadd9abc"
   },
   "outputs": [],
   "source": [
    "# when dropping variables later, here are the columns which were dropped in case we need to replace them\n",
    "df = pd.get_dummies(data['ChestPainType'],drop_first=False)\n",
    "Chest_pain_ASY = pd.DataFrame(df['ASY'])\n",
    "Chest_pain_ASY.rename(columns={'ASY':'ChestPainType - ASY'},inplace=True)\n",
    "\n",
    "\n",
    "df = pd.get_dummies(data['RestingECG'])\n",
    "RestingECG_LVH = pd.DataFrame(df['LVH'])\n",
    "RestingECG_LVH.rename(columns={'LVH':'RestingECG - LVH'},inplace=True)\n",
    "\n",
    "\n",
    "df = pd.get_dummies(data['ExerciseAngina'],drop_first=False)\n",
    "ExerciseAngina_No = pd.DataFrame(df['N'])\n",
    "ExerciseAngina_No.rename(columns={'N':'ExerciseAngina - No'},inplace=True)\n",
    "\n",
    "\n",
    "df = pd.get_dummies(data['ST_Slope'])\n",
    "ST_Slope_Down = pd.DataFrame(df['Down'])\n",
    "ST_Slope_Down.rename(columns={'Down':'ST_Slope - Down'},inplace=True)"
   ]
  },
  {
   "cell_type": "code",
   "execution_count": 12,
   "id": "ec070a87",
   "metadata": {
    "id": "ec070a87"
   },
   "outputs": [],
   "source": [
    "# removing the old variables\n",
    "data.drop(['Sex','ChestPainType','RestingECG','ExerciseAngina','ST_Slope'], axis=1, inplace=True)"
   ]
  },
  {
   "cell_type": "code",
   "execution_count": 13,
   "id": "9230162c",
   "metadata": {
    "id": "9230162c"
   },
   "outputs": [],
   "source": [
    "# adding back the new ones\n",
    "datan = data.join((sex,ChestPainType,RestingECG,ExerciseAngina,ST_Slope))"
   ]
  },
  {
   "cell_type": "code",
   "execution_count": 14,
   "id": "6f88fba2",
   "metadata": {
    "id": "6f88fba2"
   },
   "outputs": [],
   "source": [
    "# 'Oldpeak' is also omitted because that variable is already expressed by 'ST_Slope'\n",
    "datan.drop(['Oldpeak'],axis=1, inplace=True)"
   ]
  },
  {
   "cell_type": "code",
   "execution_count": 15,
   "id": "8f21e983",
   "metadata": {
    "id": "8f21e983"
   },
   "outputs": [],
   "source": [
    "# For ease of reading we will change the column names\n",
    "datan = datan.rename(columns={'M': 'Male','ATA':'Chest pain - ATA','NAP':'Chest pain - NAP','TA':'Chest pain - TA',\n",
    "                             'Normal':'RestingECG - Normal','ST':'RestingECG - ST','Y':'ExerciseAngina - Yes',\n",
    "                             'Flat':'ST_Slope - Flat','Up':'ST_Slope - Up'})"
   ]
  },
  {
   "cell_type": "code",
   "execution_count": 16,
   "id": "88cfe6af",
   "metadata": {
    "colab": {
     "base_uri": "https://localhost:8080/",
     "height": 260
    },
    "id": "88cfe6af",
    "outputId": "e8acdd48-0715-4f03-8e61-350eb7656294"
   },
   "outputs": [
    {
     "data": {
      "text/html": [
       "<div>\n",
       "<style scoped>\n",
       "    .dataframe tbody tr th:only-of-type {\n",
       "        vertical-align: middle;\n",
       "    }\n",
       "\n",
       "    .dataframe tbody tr th {\n",
       "        vertical-align: top;\n",
       "    }\n",
       "\n",
       "    .dataframe thead th {\n",
       "        text-align: right;\n",
       "    }\n",
       "</style>\n",
       "<table border=\"1\" class=\"dataframe\">\n",
       "  <thead>\n",
       "    <tr style=\"text-align: right;\">\n",
       "      <th></th>\n",
       "      <th>Age</th>\n",
       "      <th>RestingBP</th>\n",
       "      <th>Cholesterol</th>\n",
       "      <th>FastingBS</th>\n",
       "      <th>MaxHR</th>\n",
       "      <th>HeartDisease</th>\n",
       "      <th>Male</th>\n",
       "      <th>Chest pain - ATA</th>\n",
       "      <th>Chest pain - NAP</th>\n",
       "      <th>Chest pain - TA</th>\n",
       "      <th>RestingECG - Normal</th>\n",
       "      <th>RestingECG - ST</th>\n",
       "      <th>ExerciseAngina - Yes</th>\n",
       "      <th>ST_Slope - Flat</th>\n",
       "      <th>ST_Slope - Up</th>\n",
       "    </tr>\n",
       "  </thead>\n",
       "  <tbody>\n",
       "    <tr>\n",
       "      <th>0</th>\n",
       "      <td>40</td>\n",
       "      <td>140</td>\n",
       "      <td>289</td>\n",
       "      <td>0</td>\n",
       "      <td>172</td>\n",
       "      <td>0</td>\n",
       "      <td>1</td>\n",
       "      <td>1</td>\n",
       "      <td>0</td>\n",
       "      <td>0</td>\n",
       "      <td>1</td>\n",
       "      <td>0</td>\n",
       "      <td>0</td>\n",
       "      <td>0</td>\n",
       "      <td>1</td>\n",
       "    </tr>\n",
       "    <tr>\n",
       "      <th>1</th>\n",
       "      <td>49</td>\n",
       "      <td>160</td>\n",
       "      <td>180</td>\n",
       "      <td>0</td>\n",
       "      <td>156</td>\n",
       "      <td>1</td>\n",
       "      <td>0</td>\n",
       "      <td>0</td>\n",
       "      <td>1</td>\n",
       "      <td>0</td>\n",
       "      <td>1</td>\n",
       "      <td>0</td>\n",
       "      <td>0</td>\n",
       "      <td>1</td>\n",
       "      <td>0</td>\n",
       "    </tr>\n",
       "    <tr>\n",
       "      <th>2</th>\n",
       "      <td>37</td>\n",
       "      <td>130</td>\n",
       "      <td>283</td>\n",
       "      <td>0</td>\n",
       "      <td>98</td>\n",
       "      <td>0</td>\n",
       "      <td>1</td>\n",
       "      <td>1</td>\n",
       "      <td>0</td>\n",
       "      <td>0</td>\n",
       "      <td>0</td>\n",
       "      <td>1</td>\n",
       "      <td>0</td>\n",
       "      <td>0</td>\n",
       "      <td>1</td>\n",
       "    </tr>\n",
       "    <tr>\n",
       "      <th>3</th>\n",
       "      <td>48</td>\n",
       "      <td>138</td>\n",
       "      <td>214</td>\n",
       "      <td>0</td>\n",
       "      <td>108</td>\n",
       "      <td>1</td>\n",
       "      <td>0</td>\n",
       "      <td>0</td>\n",
       "      <td>0</td>\n",
       "      <td>0</td>\n",
       "      <td>1</td>\n",
       "      <td>0</td>\n",
       "      <td>1</td>\n",
       "      <td>1</td>\n",
       "      <td>0</td>\n",
       "    </tr>\n",
       "    <tr>\n",
       "      <th>4</th>\n",
       "      <td>54</td>\n",
       "      <td>150</td>\n",
       "      <td>195</td>\n",
       "      <td>0</td>\n",
       "      <td>122</td>\n",
       "      <td>0</td>\n",
       "      <td>1</td>\n",
       "      <td>0</td>\n",
       "      <td>1</td>\n",
       "      <td>0</td>\n",
       "      <td>1</td>\n",
       "      <td>0</td>\n",
       "      <td>0</td>\n",
       "      <td>0</td>\n",
       "      <td>1</td>\n",
       "    </tr>\n",
       "  </tbody>\n",
       "</table>\n",
       "</div>"
      ],
      "text/plain": [
       "   Age  RestingBP  ...  ST_Slope - Flat  ST_Slope - Up\n",
       "0   40        140  ...                0              1\n",
       "1   49        160  ...                1              0\n",
       "2   37        130  ...                0              1\n",
       "3   48        138  ...                1              0\n",
       "4   54        150  ...                0              1\n",
       "\n",
       "[5 rows x 15 columns]"
      ]
     },
     "execution_count": 16,
     "metadata": {},
     "output_type": "execute_result"
    }
   ],
   "source": [
    "# all done!\n",
    "datan.head()"
   ]
  },
  {
   "cell_type": "markdown",
   "id": "4c2493e7",
   "metadata": {
    "id": "4c2493e7"
   },
   "source": [
    "### Building the model"
   ]
  },
  {
   "cell_type": "markdown",
   "id": "bddbe2f6",
   "metadata": {
    "id": "bddbe2f6"
   },
   "source": [
    "Now the data is interpretable by our models, we may now create the models. First we must split our data into a train/test split, a large slice for the data upon which we create and train our model, and a smaller test slice which the model hasn't seen before, upon which it will attempt to make predictions which we may use to judge its accuracy."
   ]
  },
  {
   "cell_type": "code",
   "execution_count": 17,
   "id": "8f43a9b7",
   "metadata": {
    "id": "8f43a9b7"
   },
   "outputs": [],
   "source": [
    "from sklearn.model_selection import train_test_split"
   ]
  },
  {
   "cell_type": "code",
   "execution_count": 18,
   "id": "60e3c0e5",
   "metadata": {
    "id": "60e3c0e5"
   },
   "outputs": [],
   "source": [
    "y = datan['HeartDisease'] # our dependent variable we are trying to predict is if the patients have heart disease or not\n",
    "X = datan.drop(columns=['HeartDisease']) # the independent variables are all the variables thought to indicate heart disease\n",
    "\n",
    "X_train, X_test, y_train, y_test = train_test_split(X, y, test_size=0.2, random_state=101)"
   ]
  },
  {
   "cell_type": "code",
   "execution_count": 19,
   "id": "2a8e70d9",
   "metadata": {
    "colab": {
     "base_uri": "https://localhost:8080/"
    },
    "id": "2a8e70d9",
    "outputId": "3f4e45c7-c648-43ae-ab84-55b4ff914f84",
    "scrolled": true
   },
   "outputs": [
    {
     "name": "stderr",
     "output_type": "stream",
     "text": [
      "/usr/local/lib/python3.7/dist-packages/statsmodels/tools/_testing.py:19: FutureWarning: pandas.util.testing is deprecated. Use the functions in the public API at pandas.testing instead.\n",
      "  import pandas.util.testing as tm\n"
     ]
    },
    {
     "name": "stdout",
     "output_type": "stream",
     "text": [
      "Optimization terminated successfully.\n",
      "         Current function value: 0.347375\n",
      "         Iterations 7\n",
      "                           Logit Regression Results                           \n",
      "==============================================================================\n",
      "Dep. Variable:           HeartDisease   No. Observations:                  596\n",
      "Model:                          Logit   Df Residuals:                      582\n",
      "Method:                           MLE   Df Model:                           13\n",
      "Date:                Mon, 08 Nov 2021   Pseudo R-squ.:                  0.4972\n",
      "Time:                        17:14:13   Log-Likelihood:                -207.04\n",
      "converged:                       True   LL-Null:                       -411.77\n",
      "Covariance Type:            nonrobust   LLR p-value:                 2.229e-79\n",
      "========================================================================================\n",
      "                           coef    std err          z      P>|z|      [0.025      0.975]\n",
      "----------------------------------------------------------------------------------------\n",
      "Age                      0.0131      0.013      0.999      0.318      -0.013       0.039\n",
      "RestingBP                0.0037      0.007      0.545      0.586      -0.010       0.017\n",
      "Cholesterol              0.0005      0.002      0.252      0.801      -0.003       0.005\n",
      "FastingBS                0.2817      0.357      0.788      0.431      -0.419       0.982\n",
      "MaxHR                   -0.0074      0.005     -1.536      0.125      -0.017       0.002\n",
      "Male                     1.6418      0.314      5.224      0.000       1.026       2.258\n",
      "Chest pain - ATA        -1.9245      0.392     -4.906      0.000      -2.693      -1.156\n",
      "Chest pain - NAP        -1.5109      0.322     -4.688      0.000      -2.143      -0.879\n",
      "Chest pain - TA         -1.3747      0.505     -2.720      0.007      -2.365      -0.384\n",
      "RestingECG - Normal     -0.3539      0.297     -1.191      0.234      -0.937       0.229\n",
      "RestingECG - ST         -0.4029      0.421     -0.957      0.339      -1.228       0.423\n",
      "ExerciseAngina - Yes     0.9366      0.287      3.264      0.001       0.374       1.499\n",
      "ST_Slope - Flat          0.1952      0.513      0.380      0.704      -0.811       1.202\n",
      "ST_Slope - Up           -2.4837      0.537     -4.626      0.000      -3.536      -1.431\n",
      "========================================================================================\n"
     ]
    }
   ],
   "source": [
    "import statsmodels.api as sm\n",
    "log_reg = sm.Logit(y_train, X_train).fit()\n",
    "print(log_reg.summary())"
   ]
  },
  {
   "cell_type": "markdown",
   "id": "6f8f2ec2",
   "metadata": {
    "id": "6f8f2ec2"
   },
   "source": [
    "#### When adopting the 10% level of signficicance, we see the below have p-values which do not meet the 10% threshold for a test if the coefficients are equal to zero (and have no effect). E.g. we have a 31.8% probability of seeing the coefficient we see above for  'RestingBP' if the 'true' coefficient for RestingBP is equal to zero; thus we omit it.\n",
    "\n",
    "Starting with the one with the highest p-value (i.e., 'Cholesterol' with a p-value of 0.801), variables are removed iteratively until only significant variables remain. Below is the final results of the regression after all redundant variables are removed. You can see the canonical order of removing variables and adding back in the dummies which were removed (albeit both cases 'ST_Slope_Down' and 'RestingECG_LVH' were then removed again)."
   ]
  },
  {
   "cell_type": "markdown",
   "id": "35270417",
   "metadata": {
    "id": "35270417"
   },
   "source": [
    "### Logistic regression results"
   ]
  },
  {
   "cell_type": "code",
   "execution_count": 20,
   "id": "20f86937",
   "metadata": {
    "colab": {
     "base_uri": "https://localhost:8080/"
    },
    "id": "20f86937",
    "outputId": "acc8104f-01db-4992-b116-a2032ae7800c"
   },
   "outputs": [
    {
     "name": "stdout",
     "output_type": "stream",
     "text": [
      "Optimization terminated successfully.\n",
      "         Current function value: 0.353754\n",
      "         Iterations 7\n",
      "                           Logit Regression Results                           \n",
      "==============================================================================\n",
      "Dep. Variable:           HeartDisease   No. Observations:                  596\n",
      "Model:                          Logit   Df Residuals:                      590\n",
      "Method:                           MLE   Df Model:                            5\n",
      "Date:                Mon, 08 Nov 2021   Pseudo R-squ.:                  0.4880\n",
      "Time:                        17:14:15   Log-Likelihood:                -210.84\n",
      "converged:                       True   LL-Null:                       -411.77\n",
      "Covariance Type:            nonrobust   LLR p-value:                 1.173e-84\n",
      "========================================================================================\n",
      "                           coef    std err          z      P>|z|      [0.025      0.975]\n",
      "----------------------------------------------------------------------------------------\n",
      "Male                     1.8190      0.251      7.248      0.000       1.327       2.311\n",
      "Chest pain - ATA        -2.0104      0.368     -5.465      0.000      -2.731      -1.289\n",
      "Chest pain - NAP        -1.4571      0.293     -4.978      0.000      -2.031      -0.883\n",
      "Chest pain - TA         -1.2964      0.481     -2.696      0.007      -2.239      -0.354\n",
      "ExerciseAngina - Yes     1.1158      0.243      4.592      0.000       0.640       1.592\n",
      "ST_Slope - Up           -2.7106      0.264    -10.251      0.000      -3.229      -2.192\n",
      "========================================================================================\n"
     ]
    }
   ],
   "source": [
    "X_train = X_train.drop(columns=['Cholesterol'])\n",
    "X_train = X_train.drop(columns=['ST_Slope - Flat'])\n",
    "X_train = X_train.join(ST_Slope_Down)\n",
    "X_train = X_train.drop(columns=['RestingBP'])\n",
    "X_train = X_train.drop(columns=['FastingBS'])\n",
    "X_train = X_train.drop(columns=['RestingECG - ST'])\n",
    "X_train = X_train.join(RestingECG_LVH)\n",
    "X_train = X_train.drop(columns=['RestingECG - LVH'])\n",
    "X_train = X_train.drop(columns=['RestingECG - Normal'])\n",
    "X_train = X_train.drop(columns=['ST_Slope - Down'])\n",
    "X_train = X_train.drop(columns=['MaxHR'])\n",
    "X_train = X_train.drop(columns=['Age'])\n",
    "\n",
    "\n",
    "log_reg = sm.Logit(y_train, X_train).fit()\n",
    "print(log_reg.summary())"
   ]
  },
  {
   "cell_type": "code",
   "execution_count": 30,
   "id": "19b94d6b",
   "metadata": {
    "colab": {
     "base_uri": "https://localhost:8080/",
     "height": 297
    },
    "id": "19b94d6b",
    "outputId": "6d68fee4-968f-4f11-e2dd-9ad163dd36c2"
   },
   "outputs": [
    {
     "data": {
      "text/plain": [
       "<matplotlib.axes._subplots.AxesSubplot at 0x7ff30c063850>"
      ]
     },
     "execution_count": 30,
     "metadata": {},
     "output_type": "execute_result"
    },
    {
     "data": {
      "image/png": "[encoded data removed]",
      "text/plain": [
       "<Figure size 432x288 with 1 Axes>"
      ]
     },
     "metadata": {
      "needs_background": "light"
     },
     "output_type": "display_data"
    }
   ],
   "source": [
    "sns.countplot(x='ChestPainType',data=data)"
   ]
  },
  {
   "cell_type": "code",
   "execution_count": 31,
   "id": "08602068",
   "metadata": {
    "colab": {
     "base_uri": "https://localhost:8080/",
     "height": 297
    },
    "id": "08602068",
    "outputId": "fbf83b7c-5d73-4097-c0ae-f932af02f32d",
    "scrolled": true
   },
   "outputs": [
    {
     "data": {
      "text/plain": [
       "<matplotlib.axes._subplots.AxesSubplot at 0x7ff30bf53710>"
      ]
     },
     "execution_count": 31,
     "metadata": {},
     "output_type": "execute_result"
    },
    {
     "data": {
      "image/png": "[encoded data removed]",
      "text/plain": [
       "<Figure size 432x288 with 1 Axes>"
      ]
     },
     "metadata": {
      "needs_background": "light"
     },
     "output_type": "display_data"
    }
   ],
   "source": [
    "# here we see that the sample is not strongly biased towards HD diagnosis as one might suspect\n",
    "sns.countplot(x='HeartDisease',data=data)"
   ]
  },
  {
   "cell_type": "code",
   "execution_count": 32,
   "id": "1cddfb01",
   "metadata": {
    "colab": {
     "base_uri": "https://localhost:8080/",
     "height": 297
    },
    "id": "1cddfb01",
    "outputId": "e9c58101-3387-4e15-cf5a-63b4024c75f7"
   },
   "outputs": [
    {
     "data": {
      "text/plain": [
       "<matplotlib.axes._subplots.AxesSubplot at 0x7ff30bedc8d0>"
      ]
     },
     "execution_count": 32,
     "metadata": {},
     "output_type": "execute_result"
    },
    {
     "data": {
      "image/png": "[encoded data removed]",
      "text/plain": [
       "<Figure size 432x288 with 1 Axes>"
      ]
     },
     "metadata": {
      "needs_background": "light"
     },
     "output_type": "display_data"
    }
   ],
   "source": [
    "sns.countplot(x='Sex',data=data,)"
   ]
  },
  {
   "cell_type": "code",
   "execution_count": 33,
   "id": "da4dd9ca",
   "metadata": {
    "colab": {
     "base_uri": "https://localhost:8080/",
     "height": 297
    },
    "id": "da4dd9ca",
    "outputId": "3747de74-7a7e-4298-c850-125e78c39784",
    "scrolled": true
   },
   "outputs": [
    {
     "data": {
      "text/plain": [
       "<matplotlib.axes._subplots.AxesSubplot at 0x7ff30beaee10>"
      ]
     },
     "execution_count": 33,
     "metadata": {},
     "output_type": "execute_result"
    },
    {
     "data": {
      "image/png": "[encoded data removed]",
      "text/plain": [
       "<Figure size 432x288 with 1 Axes>"
      ]
     },
     "metadata": {
      "needs_background": "light"
     },
     "output_type": "display_data"
    }
   ],
   "source": [
    "sns.countplot(x='Sex',data=data,hue=\"HeartDisease\")"
   ]
  },
  {
   "cell_type": "markdown",
   "id": "ff125cf5",
   "metadata": {
    "id": "ff125cf5"
   },
   "source": [
    "#### Finally, we have a parsimonious model with only statistically significant regressors.\n",
    "\n",
    "It is intriguing that the only variables which were positively related to HD are if the patient is male and if the patient has exercise induced angina. It is perhaps to be expected that ‘Male’ has a positive correlation whose strength (1.819) compares to the other variables, as men appear to be more likely to have heart conditions (shorturl.at/eowJ9), something which also appears to be reflected in our data above since males appear to have proportionally higher rates of HD than females. We see a similar result for exercise induced angina with a coefficient of 1.11, as a medical layman I would suppose that angina/chest pain would be part of HD at any point, but the results above indicate that specifically angina from exercise has a strong impact. This makes the negative coefficients of comparable intensity on the other anginal pain variables surprising. Although they are of different strengths, with atypical anginal pain being the strongest at -2.01, then non-anginal pain at -1.45, and typical anginal pain least intense at -1.29. Potentially this is due to a bias of the sample, that is, in the general population the ‘true’ coefficients for measures of chest pain would be positive; on the other hand, as you can see above, most patients are asymptomatic which one would expect in the real population.\n",
    "\n",
    "The results above suggest that Cholesterol, stress test performance, resting blood pressure, fasting blood sugar, resting electrocardiogram results, maximum heart rate, and age are not significantly able to predict HD. However, this may be an effect of the bias of the sample, whilst those diagnosed with HD are not overrepresented in the sample, these are all individuals who have attended a hospital. It may be that the sample is then biased as not to render the above results, so perhaps whilst they may not be significant for people who are already in hospital, they may become more significant if we were studying random people from the wider general population (i.e., random people brought from the streets). \n",
    "\n",
    "Likewise, all results above may be subject to purely random coincidence; for example, like how the divorce rate in Maine being 99% correlated with the per capita consumption of margarine (https://www.tylervigen.com/spurious-correlations)."
   ]
  },
  {
   "cell_type": "code",
   "execution_count": 34,
   "id": "62038780",
   "metadata": {
    "colab": {
     "base_uri": "https://localhost:8080/",
     "height": 422
    },
    "id": "62038780",
    "outputId": "a97085eb-df5b-4daa-a2db-638e87ceb461"
   },
   "outputs": [
    {
     "data": {
      "text/html": [
       "<div>\n",
       "<style scoped>\n",
       "    .dataframe tbody tr th:only-of-type {\n",
       "        vertical-align: middle;\n",
       "    }\n",
       "\n",
       "    .dataframe tbody tr th {\n",
       "        vertical-align: top;\n",
       "    }\n",
       "\n",
       "    .dataframe thead th {\n",
       "        text-align: right;\n",
       "    }\n",
       "</style>\n",
       "<table border=\"1\" class=\"dataframe\">\n",
       "  <thead>\n",
       "    <tr style=\"text-align: right;\">\n",
       "      <th></th>\n",
       "      <th>Predictions</th>\n",
       "      <th>HeartDisease</th>\n",
       "    </tr>\n",
       "  </thead>\n",
       "  <tbody>\n",
       "    <tr>\n",
       "      <th>854</th>\n",
       "      <td>0</td>\n",
       "      <td>0</td>\n",
       "    </tr>\n",
       "    <tr>\n",
       "      <th>42</th>\n",
       "      <td>0</td>\n",
       "      <td>0</td>\n",
       "    </tr>\n",
       "    <tr>\n",
       "      <th>778</th>\n",
       "      <td>1</td>\n",
       "      <td>1</td>\n",
       "    </tr>\n",
       "    <tr>\n",
       "      <th>478</th>\n",
       "      <td>1</td>\n",
       "      <td>1</td>\n",
       "    </tr>\n",
       "    <tr>\n",
       "      <th>204</th>\n",
       "      <td>0</td>\n",
       "      <td>0</td>\n",
       "    </tr>\n",
       "    <tr>\n",
       "      <th>...</th>\n",
       "      <td>...</td>\n",
       "      <td>...</td>\n",
       "    </tr>\n",
       "    <tr>\n",
       "      <th>502</th>\n",
       "      <td>1</td>\n",
       "      <td>1</td>\n",
       "    </tr>\n",
       "    <tr>\n",
       "      <th>758</th>\n",
       "      <td>0</td>\n",
       "      <td>0</td>\n",
       "    </tr>\n",
       "    <tr>\n",
       "      <th>765</th>\n",
       "      <td>0</td>\n",
       "      <td>0</td>\n",
       "    </tr>\n",
       "    <tr>\n",
       "      <th>485</th>\n",
       "      <td>1</td>\n",
       "      <td>1</td>\n",
       "    </tr>\n",
       "    <tr>\n",
       "      <th>151</th>\n",
       "      <td>0</td>\n",
       "      <td>0</td>\n",
       "    </tr>\n",
       "  </tbody>\n",
       "</table>\n",
       "<p>150 rows × 2 columns</p>\n",
       "</div>"
      ],
      "text/plain": [
       "     Predictions  HeartDisease\n",
       "854            0             0\n",
       "42             0             0\n",
       "778            1             1\n",
       "478            1             1\n",
       "204            0             0\n",
       "..           ...           ...\n",
       "502            1             1\n",
       "758            0             0\n",
       "765            0             0\n",
       "485            1             1\n",
       "151            0             0\n",
       "\n",
       "[150 rows x 2 columns]"
      ]
     },
     "execution_count": 34,
     "metadata": {},
     "output_type": "execute_result"
    }
   ],
   "source": [
    "# here we can see the predicted diagnoses of the model vs. the actual diagnoses\n",
    "\n",
    "# remove the test data's redundant variables\n",
    "X_test = X_test.drop(columns=['Cholesterol','ST_Slope - Flat','RestingBP','FastingBS'\n",
    "                             ,'RestingECG - ST','RestingECG - Normal','MaxHR','Age']) \n",
    "\n",
    "y_pred = log_reg.predict(X_test) # run the model on the test data to see what it predicts will be the outcomes (probabilities)\n",
    "y_pred = np.round(y_pred).astype(int) # probabilities above 50% are converted to '1's and the rest to '0's\n",
    "\n",
    "preddf = pd.DataFrame(y_pred,columns=['Predictions']) # placing the figures above into a table\n",
    "preddf = preddf.join(datan['HeartDisease'])\n",
    "preddf"
   ]
  },
  {
   "cell_type": "code",
   "execution_count": 35,
   "id": "e6085257",
   "metadata": {
    "colab": {
     "base_uri": "https://localhost:8080/",
     "height": 112
    },
    "id": "e6085257",
    "outputId": "47f9eaf8-a6bb-4daf-b9fa-0601aca9c378"
   },
   "outputs": [
    {
     "data": {
      "text/html": [
       "<div>\n",
       "<style scoped>\n",
       "    .dataframe tbody tr th:only-of-type {\n",
       "        vertical-align: middle;\n",
       "    }\n",
       "\n",
       "    .dataframe tbody tr th {\n",
       "        vertical-align: top;\n",
       "    }\n",
       "\n",
       "    .dataframe thead th {\n",
       "        text-align: right;\n",
       "    }\n",
       "</style>\n",
       "<table border=\"1\" class=\"dataframe\">\n",
       "  <thead>\n",
       "    <tr style=\"text-align: right;\">\n",
       "      <th></th>\n",
       "      <th>Predicted healthy</th>\n",
       "      <th>Predicted disease</th>\n",
       "    </tr>\n",
       "  </thead>\n",
       "  <tbody>\n",
       "    <tr>\n",
       "      <th>True healthy</th>\n",
       "      <td>63</td>\n",
       "      <td>9</td>\n",
       "    </tr>\n",
       "    <tr>\n",
       "      <th>True disease</th>\n",
       "      <td>7</td>\n",
       "      <td>71</td>\n",
       "    </tr>\n",
       "  </tbody>\n",
       "</table>\n",
       "</div>"
      ],
      "text/plain": [
       "              Predicted healthy  Predicted disease\n",
       "True healthy                 63                  9\n",
       "True disease                  7                 71"
      ]
     },
     "execution_count": 35,
     "metadata": {},
     "output_type": "execute_result"
    }
   ],
   "source": [
    "from sklearn.metrics import classification_report,confusion_matrix\n",
    "\n",
    "pd.DataFrame(data=confusion_matrix(y_test,y_pred), columns=['Predicted healthy','Predicted disease'], index=['True healthy','True disease'])"
   ]
  },
  {
   "cell_type": "code",
   "execution_count": 36,
   "id": "ea3b99d9",
   "metadata": {
    "colab": {
     "base_uri": "https://localhost:8080/"
    },
    "id": "ea3b99d9",
    "outputId": "cdaf5f29-fa6b-46b9-e88e-e3130e095fee"
   },
   "outputs": [
    {
     "name": "stdout",
     "output_type": "stream",
     "text": [
      "              precision    recall  f1-score   support\n",
      "\n",
      "           0       0.90      0.88      0.89        72\n",
      "           1       0.89      0.91      0.90        78\n",
      "\n",
      "    accuracy                           0.89       150\n",
      "   macro avg       0.89      0.89      0.89       150\n",
      "weighted avg       0.89      0.89      0.89       150\n",
      "\n"
     ]
    }
   ],
   "source": [
    "print(classification_report(y_test,y_pred))"
   ]
  },
  {
   "cell_type": "markdown",
   "id": "a47ac208",
   "metadata": {
    "id": "a47ac208"
   },
   "source": [
    "#### We have achieved a model of 89% accuracy"
   ]
  },
  {
   "cell_type": "markdown",
   "id": "6798153a",
   "metadata": {
    "id": "6798153a"
   },
   "source": [
    "### Predicting HD using a neural network"
   ]
  },
  {
   "cell_type": "code",
   "execution_count": 37,
   "id": "06015d76",
   "metadata": {
    "id": "06015d76"
   },
   "outputs": [],
   "source": [
    "y = datan['HeartDisease']\n",
    "X = datan.drop(columns=['HeartDisease'])\n",
    "\n",
    "X_train, X_test, y_train, y_test = train_test_split(X, y, test_size=0.2, random_state=101)"
   ]
  },
  {
   "cell_type": "code",
   "execution_count": 38,
   "id": "Rq0qc3B68vUr",
   "metadata": {
    "id": "Rq0qc3B68vUr"
   },
   "outputs": [],
   "source": [
    "# here we scale the data, setting its mean to 0 and its std.dev. to 1 so that no variable has inordinate influence\n",
    "from sklearn.preprocessing import MinMaxScaler\n",
    "\n",
    "scaler = MinMaxScaler()\n",
    "\n",
    "scaler.fit(X_train)\n",
    "\n",
    "X_train = scaler.transform(X_train)\n",
    "X_test = scaler.transform(X_test)"
   ]
  },
  {
   "cell_type": "code",
   "execution_count": 39,
   "id": "TxPvEPOz8g41",
   "metadata": {
    "id": "TxPvEPOz8g41"
   },
   "outputs": [],
   "source": [
    "import tensorflow as tf\n",
    "from tensorflow.keras.models import Sequential\n",
    "from tensorflow.keras.layers import Dense, Activation,Dropout"
   ]
  },
  {
   "cell_type": "code",
   "execution_count": 47,
   "id": "oWSJiIZW8e1C",
   "metadata": {
    "id": "oWSJiIZW8e1C"
   },
   "outputs": [],
   "source": [
    "model = Sequential()\n",
    "model.add(Dense(units=14,activation='relu')) # 14 columns so 14 input nodes\n",
    "\n",
    "# to prevent overfitting, 70% the nodes are switched off at random every epoch. This prevents any particular connection from \n",
    "# being 'too' strong, allowing the algorithm to explore different connections\n",
    "model.add(Dropout(0.7))\n",
    "\n",
    "model.add(Dense(units=7,activation='relu')) # as a rule of thumb the hidden layer is a size between the input and the output \n",
    "model.add(Dropout(0.5))\n",
    "\n",
    "model.add(Dense(units=1,activation='sigmoid'))\n",
    "model.compile(loss='binary_crossentropy', optimizer='adam')"
   ]
  },
  {
   "cell_type": "code",
   "execution_count": 48,
   "id": "u2Squ69j9DmZ",
   "metadata": {
    "colab": {
     "base_uri": "https://localhost:8080/"
    },
    "id": "u2Squ69j9DmZ",
    "outputId": "d4d4461b-e2ee-4526-e948-58a3970942d7"
   },
   "outputs": [
    {
     "name": "stdout",
     "output_type": "stream",
     "text": [
      "Epoch 1/30\n",
      "19/19 [==============================] - 1s 10ms/step - loss: 0.9089 - val_loss: 0.8217\n",
      "Epoch 2/30\n",
      "19/19 [==============================] - 0s 4ms/step - loss: 0.8386 - val_loss: 0.7645\n",
      "Epoch 3/30\n",
      "19/19 [==============================] - 0s 4ms/step - loss: 0.7804 - val_loss: 0.7241\n",
      "Epoch 4/30\n",
      "19/19 [==============================] - 0s 3ms/step - loss: 0.7462 - val_loss: 0.6886\n",
      "Epoch 5/30\n",
      "19/19 [==============================] - 0s 4ms/step - loss: 0.7311 - val_loss: 0.6621\n",
      "Epoch 6/30\n",
      "19/19 [==============================] - 0s 4ms/step - loss: 0.7070 - val_loss: 0.6386\n",
      "Epoch 7/30\n",
      "19/19 [==============================] - 0s 3ms/step - loss: 0.6913 - val_loss: 0.6192\n",
      "Epoch 8/30\n",
      "19/19 [==============================] - 0s 3ms/step - loss: 0.6723 - val_loss: 0.6041\n",
      "Epoch 9/30\n",
      "19/19 [==============================] - 0s 3ms/step - loss: 0.6682 - val_loss: 0.5870\n",
      "Epoch 10/30\n",
      "19/19 [==============================] - 0s 4ms/step - loss: 0.6504 - val_loss: 0.5755\n",
      "Epoch 11/30\n",
      "19/19 [==============================] - 0s 4ms/step - loss: 0.6332 - val_loss: 0.5643\n",
      "Epoch 12/30\n",
      "19/19 [==============================] - 0s 3ms/step - loss: 0.6351 - val_loss: 0.5581\n",
      "Epoch 13/30\n",
      "19/19 [==============================] - 0s 4ms/step - loss: 0.6181 - val_loss: 0.5491\n",
      "Epoch 14/30\n",
      "19/19 [==============================] - 0s 4ms/step - loss: 0.6173 - val_loss: 0.5409\n",
      "Epoch 15/30\n",
      "19/19 [==============================] - 0s 3ms/step - loss: 0.6087 - val_loss: 0.5322\n",
      "Epoch 16/30\n",
      "19/19 [==============================] - 0s 4ms/step - loss: 0.6153 - val_loss: 0.5235\n",
      "Epoch 17/30\n",
      "19/19 [==============================] - 0s 3ms/step - loss: 0.5881 - val_loss: 0.5120\n",
      "Epoch 18/30\n",
      "19/19 [==============================] - 0s 4ms/step - loss: 0.5909 - val_loss: 0.5012\n",
      "Epoch 19/30\n",
      "19/19 [==============================] - 0s 3ms/step - loss: 0.6105 - val_loss: 0.4949\n",
      "Epoch 20/30\n",
      "19/19 [==============================] - 0s 3ms/step - loss: 0.5885 - val_loss: 0.4888\n",
      "Epoch 21/30\n",
      "19/19 [==============================] - 0s 4ms/step - loss: 0.5908 - val_loss: 0.4789\n",
      "Epoch 22/30\n",
      "19/19 [==============================] - 0s 3ms/step - loss: 0.5722 - val_loss: 0.4722\n",
      "Epoch 23/30\n",
      "19/19 [==============================] - 0s 3ms/step - loss: 0.5824 - val_loss: 0.4681\n",
      "Epoch 24/30\n",
      "19/19 [==============================] - 0s 4ms/step - loss: 0.6045 - val_loss: 0.4656\n",
      "Epoch 25/30\n",
      "19/19 [==============================] - 0s 4ms/step - loss: 0.5949 - val_loss: 0.4660\n",
      "Epoch 26/30\n",
      "19/19 [==============================] - 0s 3ms/step - loss: 0.5754 - val_loss: 0.4615\n",
      "Epoch 27/30\n",
      "19/19 [==============================] - 0s 3ms/step - loss: 0.5805 - val_loss: 0.4568\n",
      "Epoch 28/30\n",
      "19/19 [==============================] - 0s 4ms/step - loss: 0.5884 - val_loss: 0.4502\n",
      "Epoch 29/30\n",
      "19/19 [==============================] - 0s 4ms/step - loss: 0.5393 - val_loss: 0.4381\n",
      "Epoch 30/30\n",
      "19/19 [==============================] - 0s 4ms/step - loss: 0.5773 - val_loss: 0.4339\n"
     ]
    },
    {
     "data": {
      "text/plain": [
       "<keras.callbacks.History at 0x7ff2c0553710>"
      ]
     },
     "execution_count": 48,
     "metadata": {},
     "output_type": "execute_result"
    }
   ],
   "source": [
    "model.fit(x=X_train, \n",
    "          y=y_train, \n",
    "          epochs=30,\n",
    "        validation_data=(X_test, y_test), verbose=1\n",
    "          )"
   ]
  },
  {
   "cell_type": "code",
   "execution_count": 49,
   "id": "cUfMksKf9J-N",
   "metadata": {
    "id": "cUfMksKf9J-N"
   },
   "outputs": [],
   "source": [
    "model_loss = pd.DataFrame(model.history.history)"
   ]
  },
  {
   "cell_type": "code",
   "execution_count": 50,
   "id": "9rsdXjPI9nG_",
   "metadata": {
    "colab": {
     "base_uri": "https://localhost:8080/",
     "height": 283
    },
    "id": "9rsdXjPI9nG_",
    "outputId": "783ca415-84d8-4f65-c222-2d70f91c000a"
   },
   "outputs": [
    {
     "data": {
      "text/plain": [
       "<matplotlib.axes._subplots.AxesSubplot at 0x7ff2c0444c50>"
      ]
     },
     "execution_count": 50,
     "metadata": {},
     "output_type": "execute_result"
    },
    {
     "data": {
      "image/png": "[encoded data removed]",
      "text/plain": [
       "<Figure size 432x288 with 1 Axes>"
      ]
     },
     "metadata": {
      "needs_background": "light"
     },
     "output_type": "display_data"
    }
   ],
   "source": [
    "# there is a small degree of overfitting, but after different dropout rates, nodes, and activation functions,\n",
    "# this sort of performance appears to be what the model is capable of\n",
    "model_loss.plot()"
   ]
  },
  {
   "cell_type": "code",
   "execution_count": 51,
   "id": "ooRLEE7R_Lg4",
   "metadata": {
    "id": "ooRLEE7R_Lg4"
   },
   "outputs": [],
   "source": [
    "from sklearn.metrics import classification_report,confusion_matrix"
   ]
  },
  {
   "cell_type": "code",
   "execution_count": 52,
   "id": "VIm5YGuj9osw",
   "metadata": {
    "colab": {
     "base_uri": "https://localhost:8080/",
     "height": 112
    },
    "id": "VIm5YGuj9osw",
    "outputId": "7df5d5f9-949f-477a-e6d2-50ece638ffef"
   },
   "outputs": [
    {
     "data": {
      "text/html": [
       "<div>\n",
       "<style scoped>\n",
       "    .dataframe tbody tr th:only-of-type {\n",
       "        vertical-align: middle;\n",
       "    }\n",
       "\n",
       "    .dataframe tbody tr th {\n",
       "        vertical-align: top;\n",
       "    }\n",
       "\n",
       "    .dataframe thead th {\n",
       "        text-align: right;\n",
       "    }\n",
       "</style>\n",
       "<table border=\"1\" class=\"dataframe\">\n",
       "  <thead>\n",
       "    <tr style=\"text-align: right;\">\n",
       "      <th></th>\n",
       "      <th>Predicted healthy</th>\n",
       "      <th>Predicted disease</th>\n",
       "    </tr>\n",
       "  </thead>\n",
       "  <tbody>\n",
       "    <tr>\n",
       "      <th>True healthy</th>\n",
       "      <td>61</td>\n",
       "      <td>11</td>\n",
       "    </tr>\n",
       "    <tr>\n",
       "      <th>True disease</th>\n",
       "      <td>6</td>\n",
       "      <td>72</td>\n",
       "    </tr>\n",
       "  </tbody>\n",
       "</table>\n",
       "</div>"
      ],
      "text/plain": [
       "              Predicted healthy  Predicted disease\n",
       "True healthy                 61                 11\n",
       "True disease                  6                 72"
      ]
     },
     "execution_count": 52,
     "metadata": {},
     "output_type": "execute_result"
    }
   ],
   "source": [
    "y_pred = model.predict(X_test)\n",
    "y_pred = np.round(y_pred).astype(int)\n",
    "cm = confusion_matrix(y_test, y_pred)\n",
    "pd.DataFrame(cm, columns=['Predicted healthy','Predicted disease'], index=['True healthy','True disease'])"
   ]
  },
  {
   "cell_type": "code",
   "execution_count": 53,
   "id": "oS2ZrbG6FK5Z",
   "metadata": {
    "colab": {
     "base_uri": "https://localhost:8080/"
    },
    "id": "oS2ZrbG6FK5Z",
    "outputId": "240af876-3968-4e16-8ca7-a8f75290c7a2"
   },
   "outputs": [
    {
     "name": "stdout",
     "output_type": "stream",
     "text": [
      "              precision    recall  f1-score   support\n",
      "\n",
      "           0       0.91      0.85      0.88        72\n",
      "           1       0.87      0.92      0.89        78\n",
      "\n",
      "    accuracy                           0.89       150\n",
      "   macro avg       0.89      0.89      0.89       150\n",
      "weighted avg       0.89      0.89      0.89       150\n",
      "\n"
     ]
    }
   ],
   "source": [
    "print(classification_report(y_test,y_pred))"
   ]
  },
  {
   "cell_type": "markdown",
   "id": "h7MP5sfg_jg0",
   "metadata": {
    "id": "h7MP5sfg_jg0"
   },
   "source": [
    "The results above suggest the neural network has essentially the same predictive power as the logistic regression in this task."
   ]
  }
 ],
 "metadata": {
  "colab": {
   "collapsed_sections": [],
   "name": "Logistic regression and neural networks to predict heart disease.ipynb",
   "provenance": []
  },
  "kernelspec": {
   "display_name": "Python 3",
   "language": "python",
   "name": "python3"
  },
  "language_info": {
   "codemirror_mode": {
    "name": "ipython",
    "version": 3
   },
   "file_extension": ".py",
   "mimetype": "text/x-python",
   "name": "python",
   "nbconvert_exporter": "python",
   "pygments_lexer": "ipython3",
   "version": "3.8.8"
  }
 },
 "nbformat": 4,
 "nbformat_minor": 5
}
